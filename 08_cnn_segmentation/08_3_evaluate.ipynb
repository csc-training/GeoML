{
 "cells": [
  {
   "cell_type": "code",
   "execution_count": null,
   "id": "98530be8-dc8f-429d-8494-2e8824d1794c",
   "metadata": {},
   "outputs": [],
   "source": [
    "# -*- coding: utf-8 -*-\n",
    "\"\"\"\n",
    "This script compares prediction results to ground truth (test data) and prints out confusion matrix and classification report.\n",
    "The images do not need to be exactly of the same area, but the pixel size should be the same.\n",
    "Data of only overlapping area is used for evaluation.\n",
    "\n",
    "For binary classification a treshold must be given for dividing the pixels between two classes.\n",
    "\n",
    "Created on Thu Mar 19 18:32:47 2020\n",
    "\n",
    "This runs on small dataset in a moment so run with\n",
    "module laod geoconda\n",
    "python 09_3_evaluate.py\n",
    "\n",
    "OR\n",
    "module load tensorflow/nvidia-19.11-tf2-py3\n",
    "singularity_wrapper exec python 09_3_evaluate.py\n",
    "\n",
    "@author: ekkylli\n",
    "\"\"\""
   ]
  },
  {
   "cell_type": "code",
   "execution_count": 1,
   "id": "9a1398ab-9b25-4062-b2b7-f67918b614d2",
   "metadata": {},
   "outputs": [],
   "source": [
    "import os\n",
    "import rasterio\n",
    "import rasterio.mask\n",
    "from sklearn.metrics import classification_report, confusion_matrix"
   ]
  },
  {
   "cell_type": "code",
   "execution_count": 2,
   "id": "a78e4b85-83a8-4b06-8a80-be7be4146dd5",
   "metadata": {},
   "outputs": [],
   "source": [
    "# Paths for INPUTS: data and predcition image to evaluate\n",
    "#TOFIX: Set file paths and the number of classes\n",
    "data_dir='..'\n",
    "\n",
    "#no_of_classes = 2\n",
    "no_of_classes = 5\n",
    "\n",
    "#predicted_image_output_path = 'T34VFM_20180829T100019_CNN_spruce_05_001.tif'\n",
    "predicted_image_output_path = 'CNN_multiclass_rmsprop_sparse.tif'\n",
    "\n",
    "#Using the  clipped versions of labels, because of speed.\n",
    "#In real case use the validation area. \n",
    "if no_of_classes == 2: \n",
    "    test_image_path = os.path.join(data_dir, 'labels_forest.tif')  \n",
    "else:\n",
    "    test_image_path = os.path.join(data_dir, 'labels_multiclass.tif')"
   ]
  },
  {
   "cell_type": "code",
   "execution_count": 3,
   "id": "9b35feb6-83e5-4963-8171-83050c8bdb3a",
   "metadata": {},
   "outputs": [],
   "source": [
    " \n",
    "#Treshold for the binary classification\n",
    "#Try to look from map a good value, or just try different ones.\n",
    "prediction_treshold = 0.35    "
   ]
  },
  {
   "cell_type": "code",
   "execution_count": 8,
   "id": "b8aafb1e-dd4a-4461-b861-29b4b0e15512",
   "metadata": {},
   "outputs": [],
   "source": [
    "def estimateModel():\n",
    "    # Open image files of predicted data and test data\n",
    "    with rasterio.open(predicted_image_output_path, 'r') as prediction_dataset:      \n",
    "        with rasterio.open(test_image_path, 'r') as test_labels_dataset:           \n",
    "            \n",
    "            #Find out the overlappin area of two images.\n",
    "            #Because of tiling the prediction image is slightly smaller than the original clip.\n",
    "            left = max(prediction_dataset.bounds.left,test_labels_dataset.bounds.left)\n",
    "            bottom = max(prediction_dataset.bounds.bottom,test_labels_dataset.bounds.bottom)\n",
    "            right = min(prediction_dataset.bounds.right,test_labels_dataset.bounds.right)\n",
    "            top = min(prediction_dataset.bounds.top,test_labels_dataset.bounds.top)\n",
    "            \n",
    "            common_bbox = [{\n",
    "                        \"type\": \"Polygon\",\n",
    "                        \"coordinates\": [[\n",
    "                            [left, bottom],\n",
    "                            [left, top],\n",
    "                            [right, top],\n",
    "                            [right, bottom],\n",
    "                            [left, bottom]]]}]\n",
    "                        \n",
    "            # Read data from only the overlapping area\n",
    "            y_pred, transform = rasterio.mask.mask(prediction_dataset, common_bbox, crop=True)\n",
    "            y_true, transform = rasterio.mask.mask(test_labels_dataset, common_bbox, crop=True)\n",
    "            \n",
    "            # Reshape data for scikit-learn\n",
    "            y_pred2 = y_pred.reshape(-1)\n",
    "            y_true2 = y_true.reshape(-1)\n",
    "            print(y_pred2.shape)\n",
    "            print(y_true2.shape)\n",
    "            \n",
    "            print(prediction_dataset.meta)\n",
    "            print(test_labels_dataset.meta)            \n",
    "            \n",
    "            # If results of binary classification, reclassify the data based on the treshold.\n",
    "            if no_of_classes == 2: \n",
    "                y_pred2[(y_pred2 >= prediction_treshold)] = 1\n",
    "                y_pred2[(y_pred2 < prediction_treshold)] = 0\n",
    "                y_pred2 = y_pred2.astype('int')\n",
    "                print('Prediction_treshold: ', prediction_treshold) \n",
    "                                    \n",
    "            print('Confusion Matrix')    \n",
    "            print(confusion_matrix(y_true2, y_pred2))\n",
    "            print('Classification Report')\n",
    "            print(classification_report(y_true2, y_pred2, zero_division=0))\n",
    "               "
   ]
  },
  {
   "cell_type": "code",
   "execution_count": 9,
   "id": "17706dd9-72ce-419a-93cd-89cf1c152d26",
   "metadata": {},
   "outputs": [
    {
     "name": "stdout",
     "output_type": "stream",
     "text": [
      "(21233664,)\n",
      "(84916225,)\n",
      "{'driver': 'GTiff', 'dtype': 'uint8', 'nodata': 255.0, 'width': 4608, 'height': 4608, 'count': 1, 'crs': CRS.from_epsg(3067), 'transform': Affine(20.0, 0.0, 199990.0,\n",
      "       0.0, -20.0, 6800010.0)}\n",
      "{'driver': 'GTiff', 'dtype': 'uint8', 'nodata': 100.0, 'width': 10000, 'height': 10000, 'count': 1, 'crs': CRS.from_epsg(3067), 'transform': Affine(10.0, 0.0, 200000.0,\n",
      "       0.0, -10.0, 6800000.0)}\n",
      "Confusion Matrix\n"
     ]
    },
    {
     "ename": "ValueError",
     "evalue": "Found input variables with inconsistent numbers of samples: [84916225, 21233664]",
     "output_type": "error",
     "traceback": [
      "\u001b[0;31m---------------------------------------------------------------------------\u001b[0m",
      "\u001b[0;31mValueError\u001b[0m                                Traceback (most recent call last)",
      "Input \u001b[0;32mIn [9]\u001b[0m, in \u001b[0;36m<cell line: 1>\u001b[0;34m()\u001b[0m\n\u001b[0;32m----> 1\u001b[0m \u001b[43mestimateModel\u001b[49m\u001b[43m(\u001b[49m\u001b[43m)\u001b[49m\n",
      "Input \u001b[0;32mIn [8]\u001b[0m, in \u001b[0;36mestimateModel\u001b[0;34m()\u001b[0m\n\u001b[1;32m     40\u001b[0m     \u001b[38;5;28mprint\u001b[39m(\u001b[38;5;124m'\u001b[39m\u001b[38;5;124mPrediction_treshold: \u001b[39m\u001b[38;5;124m'\u001b[39m, prediction_treshold) \n\u001b[1;32m     42\u001b[0m \u001b[38;5;28mprint\u001b[39m(\u001b[38;5;124m'\u001b[39m\u001b[38;5;124mConfusion Matrix\u001b[39m\u001b[38;5;124m'\u001b[39m)    \n\u001b[0;32m---> 43\u001b[0m \u001b[38;5;28mprint\u001b[39m(\u001b[43mconfusion_matrix\u001b[49m\u001b[43m(\u001b[49m\u001b[43my_true2\u001b[49m\u001b[43m,\u001b[49m\u001b[43m \u001b[49m\u001b[43my_pred2\u001b[49m\u001b[43m)\u001b[49m)\n\u001b[1;32m     44\u001b[0m \u001b[38;5;28mprint\u001b[39m(\u001b[38;5;124m'\u001b[39m\u001b[38;5;124mClassification Report\u001b[39m\u001b[38;5;124m'\u001b[39m)\n\u001b[1;32m     45\u001b[0m \u001b[38;5;28mprint\u001b[39m(classification_report(y_true2, y_pred2, zero_division\u001b[38;5;241m=\u001b[39m\u001b[38;5;241m0\u001b[39m))\n",
      "File \u001b[0;32m/opt/rh/rh-python38/root/usr/local/lib64/python3.8/site-packages/sklearn/metrics/_classification.py:307\u001b[0m, in \u001b[0;36mconfusion_matrix\u001b[0;34m(y_true, y_pred, labels, sample_weight, normalize)\u001b[0m\n\u001b[1;32m    222\u001b[0m \u001b[38;5;28;01mdef\u001b[39;00m \u001b[38;5;21mconfusion_matrix\u001b[39m(\n\u001b[1;32m    223\u001b[0m     y_true, y_pred, \u001b[38;5;241m*\u001b[39m, labels\u001b[38;5;241m=\u001b[39m\u001b[38;5;28;01mNone\u001b[39;00m, sample_weight\u001b[38;5;241m=\u001b[39m\u001b[38;5;28;01mNone\u001b[39;00m, normalize\u001b[38;5;241m=\u001b[39m\u001b[38;5;28;01mNone\u001b[39;00m\n\u001b[1;32m    224\u001b[0m ):\n\u001b[1;32m    225\u001b[0m     \u001b[38;5;124;03m\"\"\"Compute confusion matrix to evaluate the accuracy of a classification.\u001b[39;00m\n\u001b[1;32m    226\u001b[0m \n\u001b[1;32m    227\u001b[0m \u001b[38;5;124;03m    By definition a confusion matrix :math:`C` is such that :math:`C_{i, j}`\u001b[39;00m\n\u001b[0;32m   (...)\u001b[0m\n\u001b[1;32m    305\u001b[0m \u001b[38;5;124;03m    (0, 2, 1, 1)\u001b[39;00m\n\u001b[1;32m    306\u001b[0m \u001b[38;5;124;03m    \"\"\"\u001b[39;00m\n\u001b[0;32m--> 307\u001b[0m     y_type, y_true, y_pred \u001b[38;5;241m=\u001b[39m \u001b[43m_check_targets\u001b[49m\u001b[43m(\u001b[49m\u001b[43my_true\u001b[49m\u001b[43m,\u001b[49m\u001b[43m \u001b[49m\u001b[43my_pred\u001b[49m\u001b[43m)\u001b[49m\n\u001b[1;32m    308\u001b[0m     \u001b[38;5;28;01mif\u001b[39;00m y_type \u001b[38;5;129;01mnot\u001b[39;00m \u001b[38;5;129;01min\u001b[39;00m (\u001b[38;5;124m\"\u001b[39m\u001b[38;5;124mbinary\u001b[39m\u001b[38;5;124m\"\u001b[39m, \u001b[38;5;124m\"\u001b[39m\u001b[38;5;124mmulticlass\u001b[39m\u001b[38;5;124m\"\u001b[39m):\n\u001b[1;32m    309\u001b[0m         \u001b[38;5;28;01mraise\u001b[39;00m \u001b[38;5;167;01mValueError\u001b[39;00m(\u001b[38;5;124m\"\u001b[39m\u001b[38;5;132;01m%s\u001b[39;00m\u001b[38;5;124m is not supported\u001b[39m\u001b[38;5;124m\"\u001b[39m \u001b[38;5;241m%\u001b[39m y_type)\n",
      "File \u001b[0;32m/opt/rh/rh-python38/root/usr/local/lib64/python3.8/site-packages/sklearn/metrics/_classification.py:84\u001b[0m, in \u001b[0;36m_check_targets\u001b[0;34m(y_true, y_pred)\u001b[0m\n\u001b[1;32m     57\u001b[0m \u001b[38;5;28;01mdef\u001b[39;00m \u001b[38;5;21m_check_targets\u001b[39m(y_true, y_pred):\n\u001b[1;32m     58\u001b[0m     \u001b[38;5;124;03m\"\"\"Check that y_true and y_pred belong to the same classification task.\u001b[39;00m\n\u001b[1;32m     59\u001b[0m \n\u001b[1;32m     60\u001b[0m \u001b[38;5;124;03m    This converts multiclass or binary types to a common shape, and raises a\u001b[39;00m\n\u001b[0;32m   (...)\u001b[0m\n\u001b[1;32m     82\u001b[0m \u001b[38;5;124;03m    y_pred : array or indicator matrix\u001b[39;00m\n\u001b[1;32m     83\u001b[0m \u001b[38;5;124;03m    \"\"\"\u001b[39;00m\n\u001b[0;32m---> 84\u001b[0m     \u001b[43mcheck_consistent_length\u001b[49m\u001b[43m(\u001b[49m\u001b[43my_true\u001b[49m\u001b[43m,\u001b[49m\u001b[43m \u001b[49m\u001b[43my_pred\u001b[49m\u001b[43m)\u001b[49m\n\u001b[1;32m     85\u001b[0m     type_true \u001b[38;5;241m=\u001b[39m type_of_target(y_true)\n\u001b[1;32m     86\u001b[0m     type_pred \u001b[38;5;241m=\u001b[39m type_of_target(y_pred)\n",
      "File \u001b[0;32m/opt/rh/rh-python38/root/usr/local/lib64/python3.8/site-packages/sklearn/utils/validation.py:332\u001b[0m, in \u001b[0;36mcheck_consistent_length\u001b[0;34m(*arrays)\u001b[0m\n\u001b[1;32m    330\u001b[0m uniques \u001b[38;5;241m=\u001b[39m np\u001b[38;5;241m.\u001b[39munique(lengths)\n\u001b[1;32m    331\u001b[0m \u001b[38;5;28;01mif\u001b[39;00m \u001b[38;5;28mlen\u001b[39m(uniques) \u001b[38;5;241m>\u001b[39m \u001b[38;5;241m1\u001b[39m:\n\u001b[0;32m--> 332\u001b[0m     \u001b[38;5;28;01mraise\u001b[39;00m \u001b[38;5;167;01mValueError\u001b[39;00m(\n\u001b[1;32m    333\u001b[0m         \u001b[38;5;124m\"\u001b[39m\u001b[38;5;124mFound input variables with inconsistent numbers of samples: \u001b[39m\u001b[38;5;132;01m%r\u001b[39;00m\u001b[38;5;124m\"\u001b[39m\n\u001b[1;32m    334\u001b[0m         \u001b[38;5;241m%\u001b[39m [\u001b[38;5;28mint\u001b[39m(l) \u001b[38;5;28;01mfor\u001b[39;00m l \u001b[38;5;129;01min\u001b[39;00m lengths]\n\u001b[1;32m    335\u001b[0m     )\n",
      "\u001b[0;31mValueError\u001b[0m: Found input variables with inconsistent numbers of samples: [84916225, 21233664]"
     ]
    }
   ],
   "source": [
    "estimateModel()             "
   ]
  },
  {
   "cell_type": "code",
   "execution_count": null,
   "id": "cd67e666-ed27-4d26-81a7-f91d916767f1",
   "metadata": {},
   "outputs": [],
   "source": []
  }
 ],
 "metadata": {
  "kernelspec": {
   "display_name": "Python 3 (ipykernel)",
   "language": "python",
   "name": "python3"
  },
  "language_info": {
   "codemirror_mode": {
    "name": "ipython",
    "version": 3
   },
   "file_extension": ".py",
   "mimetype": "text/x-python",
   "name": "python",
   "nbconvert_exporter": "python",
   "pygments_lexer": "ipython3",
   "version": "3.9.13"
  }
 },
 "nbformat": 4,
 "nbformat_minor": 5
}
