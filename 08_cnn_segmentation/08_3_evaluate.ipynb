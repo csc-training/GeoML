{
 "cells": [
  {
   "cell_type": "markdown",
   "id": "e78230b8-3f0e-4795-a810-9be12fc1ca89",
   "metadata": {},
   "source": [
    "# CNN evaluation and plots"
   ]
  },
  {
   "cell_type": "markdown",
   "id": "2f614ff7-0ce5-4ef7-b917-1bb2b129f06b",
   "metadata": {},
   "source": [
    "This script compares prediction results to ground truth (test data) and prints out confusion matrix and classification report.\n",
    "It also plots out the CNN results.\n",
    "\n",
    "#### Labels\n",
    "* Multiclass classification raster: 1 - forest, 2 - fields, 3 - water, 4 - urban, 0 - everything else."
   ]
  },
  {
   "cell_type": "code",
   "execution_count": null,
   "id": "9a1398ab-9b25-4062-b2b7-f67918b614d2",
   "metadata": {},
   "outputs": [],
   "source": [
    "import os\n",
    "import matplotlib.pyplot as plt\n",
    "import matplotlib.colors\n",
    "import numpy as np\n",
    "import rasterio\n",
    "import rasterio.mask\n",
    "from rasterio.plot import show\n",
    "from rasterio.windows import from_bounds\n",
    "from sklearn.metrics import classification_report, confusion_matrix\n",
    "%matplotlib inline"
   ]
  },
  {
   "cell_type": "code",
   "execution_count": null,
   "id": "a78e4b85-83a8-4b06-8a80-be7be4146dd5",
   "metadata": {},
   "outputs": [],
   "source": [
    "### File paths.\n",
    "# Folders\n",
    "user = os.environ.get('USER')\n",
    "base_folder = os.path.join('/scratch/project_2002044', user, '2022/GeoML')\n",
    "dataFolder = os.path.join(base_folder,'data')\n",
    "cnn_folder = os.path.join(base_folder, '08_cnn_segmentation') \n",
    "\n",
    "# Data file, only for plotting\n",
    "image_file = os.path.join(dataFolder, 'image.tif')\n",
    "\n",
    "# Set labels image and prediction image paths.\n",
    "test_image_path_binary = os.path.join(dataFolder, 'labels_forest.tif')\n",
    "predicted_image_output_path_binary = os.path.join(cnn_folder, 'CNN_2.tif')\n",
    "\n",
    "test_image_path_multiclass = os.path.join(dataFolder, 'labels_multiclass.tif')\n",
    "predicted_image_output_path_multiclass = os.path.join(cnn_folder, 'CNN_5.tif')"
   ]
  },
  {
   "cell_type": "markdown",
   "id": "a3d61097-ab2b-424d-ac2f-0875647eef94",
   "metadata": {},
   "source": [
    "Function, to calculate results for binary classification based on model raw output."
   ]
  },
  {
   "cell_type": "code",
   "execution_count": null,
   "id": "6658b28f-48da-4cd6-9368-d9e256aba4aa",
   "metadata": {},
   "outputs": [],
   "source": [
    "def get_binary_results(prediction_data, prediction_treshold):\n",
    "    binary_prediction_data = prediction_data.copy()\n",
    "    binary_prediction_data[(binary_prediction_data >= prediction_treshold)] = 1\n",
    "    binary_prediction_data[(binary_prediction_data < prediction_treshold)] = 0\n",
    "    binary_prediction_data = binary_prediction_data.astype('int')\n",
    "    print('Prediction_treshold: ', prediction_treshold) \n",
    "    return binary_prediction_data"
   ]
  },
  {
   "cell_type": "markdown",
   "id": "109d5ce3-3d17-464d-81ac-30b68c61afc0",
   "metadata": {},
   "source": [
    "Function, to calculate confuction matrix and classification report based on predicted and test data. Before running this on test data, one should run it on validation data, to select the prediction_treshold or to retrain the model."
   ]
  },
  {
   "cell_type": "code",
   "execution_count": null,
   "id": "b8aafb1e-dd4a-4461-b861-29b4b0e15512",
   "metadata": {},
   "outputs": [],
   "source": [
    "def estimateModel(predicted_image_output_path, test_image_path, no_of_classes, prediction_treshold=0.5):\n",
    "    # Open image files of predicted data and test data\n",
    "    with rasterio.open(predicted_image_output_path, 'r') as prediction_dataset:      \n",
    "        with rasterio.open(test_image_path, 'r') as test_labels_dataset:           \n",
    "            \n",
    "            #Find out the overlappin area of two images.\n",
    "            #Because of tiling the prediction image is slightly smaller than the original clip.\n",
    "            left = max(prediction_dataset.bounds.left,test_labels_dataset.bounds.left)\n",
    "            right = min(prediction_dataset.bounds.right,test_labels_dataset.bounds.right)\n",
    "            top = min(prediction_dataset.bounds.top,test_labels_dataset.bounds.top)\n",
    "            bottom = top - 512*20            \n",
    "            \n",
    "            common_bbox = [{\n",
    "                        \"type\": \"Polygon\",\n",
    "                        \"coordinates\": [[\n",
    "                            [left, bottom],\n",
    "                            [left, top],\n",
    "                            [right, top],\n",
    "                            [right, bottom],\n",
    "                            [left, bottom]]]}]\n",
    "                        \n",
    "            # Read data from only the overlapping area\n",
    "            y_pred, transform = rasterio.mask.mask(prediction_dataset, common_bbox, crop=True)\n",
    "            y_true, transform = rasterio.mask.mask(test_labels_dataset, common_bbox, crop=True)\n",
    "            \n",
    "            #print(y_pred.shape)\n",
    "            #print(y_true.shape)\n",
    "            \n",
    "            # Reshape data for scikit-learn\n",
    "            y_pred2 = y_pred.reshape(-1)\n",
    "            y_true2 = y_true.reshape(-1)\n",
    "            #print(y_pred2.shape)\n",
    "            #print(y_true2.shape)\n",
    "                                \n",
    "            # If results of binary classification, reclassify the data based on the treshold.\n",
    "            if no_of_classes == 2: \n",
    "                y_pred2 = get_binary_results(y_pred2, prediction_treshold)\n",
    "                                                            \n",
    "            print('Confusion Matrix')  \n",
    "            print(confusion_matrix(y_true2, y_pred2))\n",
    "            print('Classification Report')\n",
    "            print(classification_report(y_true2, y_pred2, zero_division=0))\n",
    "            \n",
    "            "
   ]
  },
  {
   "cell_type": "markdown",
   "id": "b9806a20-e3db-4abb-84b8-566e934a6886",
   "metadata": {},
   "source": [
    "Estimate binary classification.\n",
    "\n",
    "For binary classification a treshold must be given for dividing the pixels between two classes. Try to look from map a good value, or just try different ones."
   ]
  },
  {
   "cell_type": "code",
   "execution_count": null,
   "id": "17706dd9-72ce-419a-93cd-89cf1c152d26",
   "metadata": {},
   "outputs": [],
   "source": [
    "prediction_treshold = 0.35  \n",
    "estimateModel(predicted_image_output_path_binary, test_image_path_binary, 2, prediction_treshold)"
   ]
  },
  {
   "cell_type": "markdown",
   "id": "7fa7fd93-e4a9-4698-9c29-56eea95a2051",
   "metadata": {},
   "source": [
    "Estimate multi-class classification.\n",
    "TO-CHANGE. Uncomment next cell, after multiclass files are available. "
   ]
  },
  {
   "cell_type": "code",
   "execution_count": null,
   "id": "cd67e666-ed27-4d26-81a7-f91d916767f1",
   "metadata": {},
   "outputs": [],
   "source": [
    "# estimateModel(test_image_path_multiclass, predicted_image_output_path_multiclass, 5)"
   ]
  },
  {
   "cell_type": "markdown",
   "id": "3fdc76fb-545a-4e36-9863-5ae52100bf92",
   "metadata": {},
   "source": [
    "## Plot the results"
   ]
  },
  {
   "cell_type": "code",
   "execution_count": null,
   "id": "81f6eba0-4dc8-4aec-b4e3-00a00860ef73",
   "metadata": {},
   "outputs": [],
   "source": [
    "# BBOX for plotting, to familiar area, we use here the bbox from previous exercises.\n",
    "minx = 240500\n",
    "miny = 6775500\n",
    "maxx = 253500\n",
    "maxy = 6788500 "
   ]
  },
  {
   "cell_type": "code",
   "execution_count": null,
   "id": "47d39b53-2baf-4565-91a7-bf0241869f30",
   "metadata": {},
   "outputs": [],
   "source": [
    "### Help function to normalize band values and enhance contrast. Just like what QGIS does automatically\n",
    "def normalize(array):\n",
    "    min_percent = 2   # Low percentile\n",
    "    max_percent = 98  # High percentile\n",
    "    lo, hi = np.percentile(array, (min_percent, max_percent))\n",
    "    return (array - lo) / (hi - lo)"
   ]
  },
  {
   "cell_type": "code",
   "execution_count": null,
   "id": "a25ded47-5d63-4ffb-b0d6-d57054984cb4",
   "metadata": {},
   "outputs": [],
   "source": [
    "### Create a subplot for 6 images \n",
    "fig, ax = plt.subplots(ncols=2, nrows=3, figsize=(10, 15))\n",
    "cmap_binary = matplotlib.colors.LinearSegmentedColormap.from_list(\"\", [\"white\",\"green\"])\n",
    "cmap_multiclass = matplotlib.colors.LinearSegmentedColormap.from_list(\"\", [\"white\",\"green\",\"orange\",\"blue\",\"violet\"])\n",
    "\n",
    "# Forest CNN prediction, raw\n",
    "with rasterio.open(predicted_image_output_path_binary) as prediction_binary_dataset:\n",
    "    prediction_data_binary = prediction_binary_dataset.read(window=from_bounds(minx, miny, maxx, maxy, prediction_binary_dataset.transform))  \n",
    "    show(prediction_data_binary, ax=ax[0, 0], cmap='gray', title='Forest CNN prediction, raw')\n",
    "\n",
    "# Forest CNN prediction, reclassified\n",
    "prediction_data_binary_reclassified = get_binary_results(prediction_data_binary, prediction_treshold) \n",
    "show(prediction_data_binary_reclassified, cmap=cmap_binary, ax=ax[0, 1], title='Forest CNN prediction, reclassified')\n",
    "\n",
    "# Sentinel image \n",
    "with rasterio.open(image_file) as image_dataset:\n",
    "    image_data = image_dataset.read(window=from_bounds(minx, miny, maxx, maxy, image_dataset.transform)) \n",
    "\n",
    "    nir, red, green = image_data[7,], image_data[3,], image_data[1,]\n",
    "    nirn, redn, greenn = normalize(nir), normalize(red), normalize(green)\n",
    "    stacked = np.stack((nirn, redn, greenn))\n",
    "    show(stacked, ax=ax[1,0], title='Sentinel image') \n",
    "\n",
    "# Forest labels  \n",
    "with rasterio.open(test_image_path_binary) as binary_labels_dataset:\n",
    "    binary_labels_data = binary_labels_dataset.read(window=from_bounds(minx, miny, maxx, maxy, binary_labels_dataset.transform))  \n",
    "    show(binary_labels_data, ax=ax[1,1], cmap=cmap_binary, title='Forest labels')\n",
    "\n",
    "# TO-CHANGE. Uncomment the last lines, after multiclass files are available. Shortcut: Ctrl + Numpad /\n",
    "# Multiclass labels\n",
    "# with rasterio.open(test_image_path_multiclass) as multiclass_labels_dataset:\n",
    "#    multiclass_labels_data = multiclass_labels_dataset.read(window=from_bounds(minx, miny, maxx, maxy, multiclass_labels_dataset.transform)) \n",
    "#    show(multiclass_labels_data, ax=ax[2, 0], cmap=cmap_multiclass, title='Multiclass labels')\n",
    "\n",
    "# # Multiclass CNN prediction\n",
    "# with rasterio.open(predicted_image_output_path_multiclass) as prediction_multiclass_dataset:\n",
    "#    multiclass_prediction_data = prediction_multiclass_dataset.read(window=from_bounds(minx, miny, maxx, maxy, prediction_multiclass_dataset.transform))  \n",
    "#    show(multiclass_prediction_data, ax=ax[2, 1], cmap=cmap_multiclass, title='Multiclass CNN prediction')"
   ]
  },
  {
   "cell_type": "code",
   "execution_count": null,
   "id": "43bc75b4-4ba5-43b2-9971-718f20e1e82f",
   "metadata": {},
   "outputs": [],
   "source": []
  },
  {
   "cell_type": "code",
   "execution_count": null,
   "id": "2deeba60-93c6-45fa-bb49-e98347be2530",
   "metadata": {},
   "outputs": [],
   "source": []
  }
 ],
 "metadata": {
  "kernelspec": {
   "display_name": "Python 3 (ipykernel)",
   "language": "python",
   "name": "python3"
  },
  "language_info": {
   "codemirror_mode": {
    "name": "ipython",
    "version": 3
   },
   "file_extension": ".py",
   "mimetype": "text/x-python",
   "name": "python",
   "nbconvert_exporter": "python",
   "pygments_lexer": "ipython3",
   "version": "3.9.7"
  }
 },
 "nbformat": 4,
 "nbformat_minor": 5
}
