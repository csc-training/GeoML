{
 "cells": [
  {
   "cell_type": "code",
   "execution_count": null,
   "id": "98530be8-dc8f-429d-8494-2e8824d1794c",
   "metadata": {},
   "outputs": [],
   "source": [
    "# -*- coding: utf-8 -*-\n",
    "\"\"\"\n",
    "This script compares prediction results to ground truth (test data) and prints out confusion matrix and classification report.\n",
    "The images do not need to be exactly of the same area, but the pixel size should be the same.\n",
    "Data of only overlapping area is used for evaluation.\n",
    "\n",
    "For binary classification a treshold must be given for dividing the pixels between two classes.\n",
    "\n",
    "Created on Thu Mar 19 18:32:47 2020\n",
    "\n",
    "This runs on small dataset in a moment so run with\n",
    "module laod geoconda\n",
    "python 09_3_evaluate.py\n",
    "\n",
    "OR\n",
    "module load tensorflow/nvidia-19.11-tf2-py3\n",
    "singularity_wrapper exec python 09_3_evaluate.py\n",
    "\n",
    "@author: ekkylli\n",
    "\"\"\""
   ]
  },
  {
   "cell_type": "code",
   "execution_count": 2,
   "id": "9a1398ab-9b25-4062-b2b7-f67918b614d2",
   "metadata": {},
   "outputs": [],
   "source": [
    "import os\n",
    "import rasterio\n",
    "import rasterio.mask\n",
    "from sklearn.metrics import classification_report, confusion_matrix"
   ]
  },
  {
   "cell_type": "code",
   "execution_count": 23,
   "id": "a78e4b85-83a8-4b06-8a80-be7be4146dd5",
   "metadata": {},
   "outputs": [],
   "source": [
    "### File paths.\n",
    "# Folders\n",
    "user = os.environ.get('USER')\n",
    "base_folder = os.path.join('/scratch/project_2002044', user, '2022/GeoML')\n",
    "dataFolder = os.path.join(base_folder,'data')\n",
    "cnn_folder = os.path.join(base_folder, '08_cnn_segmentation') \n",
    "\n",
    "# Labels\n",
    "binary_classification_file = os.path.join(dataFolder, 'labels_forest.tif')\n",
    "multiclass_classification_file = os.path.join(dataFolder, 'labels_multiclass.tif')\n",
    "\n",
    "# TO-CHANGE. For multiclass comment next 2 rows, and uncomment next 2 rows.\n",
    "#no_of_classes = 2\n",
    "#predicted_image_output_path = os.path.join(cnn_folder, 'CNN_model_best_binary_05_001.tif')\n",
    "\n",
    "no_of_classes = 5\n",
    "predicted_image_output_path = os.path.join(cnn_folder, 'CNN_model_best_multiclass_rmsprop_sparse_sample_weights.tif')\n",
    "\n",
    "#Using the  clipped versions of labels, because of speed.\n",
    "#In real case use the validation area. \n",
    "if no_of_classes == 2: \n",
    "    test_image_path = os.path.join(dataFolder, 'labels_forest.tif')  \n",
    "else:\n",
    "    test_image_path = os.path.join(dataFolder, 'labels_multiclass.tif')"
   ]
  },
  {
   "cell_type": "code",
   "execution_count": 24,
   "id": "9b35feb6-83e5-4963-8171-83050c8bdb3a",
   "metadata": {},
   "outputs": [],
   "source": [
    " \n",
    "#Treshold for the binary classification\n",
    "#Try to look from map a good value, or just try different ones.\n",
    "prediction_treshold = 0.35    "
   ]
  },
  {
   "cell_type": "code",
   "execution_count": 25,
   "id": "b8aafb1e-dd4a-4461-b861-29b4b0e15512",
   "metadata": {},
   "outputs": [],
   "source": [
    "def estimateModel():\n",
    "    # Open image files of predicted data and test data\n",
    "    with rasterio.open(predicted_image_output_path, 'r') as prediction_dataset:      \n",
    "        with rasterio.open(test_image_path, 'r') as test_labels_dataset:           \n",
    "            \n",
    "            #Find out the overlappin area of two images.\n",
    "            #Because of tiling the prediction image is slightly smaller than the original clip.\n",
    "            left = max(prediction_dataset.bounds.left,test_labels_dataset.bounds.left)\n",
    "            right = min(prediction_dataset.bounds.right,test_labels_dataset.bounds.right)\n",
    "            top = min(prediction_dataset.bounds.top,test_labels_dataset.bounds.top)\n",
    "            bottom = top - 512*20            \n",
    "            \n",
    "            common_bbox = [{\n",
    "                        \"type\": \"Polygon\",\n",
    "                        \"coordinates\": [[\n",
    "                            [left, bottom],\n",
    "                            [left, top],\n",
    "                            [right, top],\n",
    "                            [right, bottom],\n",
    "                            [left, bottom]]]}]\n",
    "                        \n",
    "            print(common_bbox)\n",
    "            # Read data from only the overlapping area\n",
    "            y_pred, transform = rasterio.mask.mask(prediction_dataset, common_bbox, crop=True)\n",
    "            y_true, transform = rasterio.mask.mask(test_labels_dataset, common_bbox, crop=True)\n",
    "            \n",
    "            print(y_pred.shape)\n",
    "            print(y_true.shape)\n",
    "            \n",
    "            # Reshape data for scikit-learn\n",
    "            y_pred2 = y_pred.reshape(-1)\n",
    "            y_true2 = y_true.reshape(-1)\n",
    "            print(y_pred2.shape)\n",
    "            print(y_true2.shape)\n",
    "            \n",
    "            print(prediction_dataset.meta)\n",
    "            print(test_labels_dataset.meta)            \n",
    "            \n",
    "            # If results of binary classification, reclassify the data based on the treshold.\n",
    "            if no_of_classes == 2: \n",
    "                y_pred2[(y_pred2 >= prediction_treshold)] = 1\n",
    "                y_pred2[(y_pred2 < prediction_treshold)] = 0\n",
    "                y_pred2 = y_pred2.astype('int')\n",
    "                print('Prediction_treshold: ', prediction_treshold) \n",
    "                                    \n",
    "            print('Confusion Matrix')    \n",
    "            print(confusion_matrix(y_true2, y_pred2))\n",
    "            print('Classification Report')\n",
    "            print(classification_report(y_true2, y_pred2, zero_division=0))\n",
    "               "
   ]
  },
  {
   "cell_type": "code",
   "execution_count": 26,
   "id": "17706dd9-72ce-419a-93cd-89cf1c152d26",
   "metadata": {},
   "outputs": [
    {
     "name": "stdout",
     "output_type": "stream",
     "text": [
      "[{'type': 'Polygon', 'coordinates': [[[200000.0, 6789760.0], [200000.0, 6800000.0], [292160.0, 6800000.0], [292160.0, 6789760.0], [200000.0, 6789760.0]]]}]\n",
      "(1, 512, 4608)\n",
      "(1, 512, 4608)\n",
      "(2359296,)\n",
      "(2359296,)\n",
      "{'driver': 'GTiff', 'dtype': 'uint8', 'nodata': 255.0, 'width': 4608, 'height': 4608, 'count': 1, 'crs': CRS.from_epsg(3067), 'transform': Affine(20.0, 0.0, 200000.0,\n",
      "       0.0, -20.0, 6800000.0)}\n",
      "{'driver': 'GTiff', 'dtype': 'uint8', 'nodata': 100.0, 'width': 5000, 'height': 5000, 'count': 1, 'crs': CRS.from_epsg(3067), 'transform': Affine(20.0, 0.0, 200000.0,\n",
      "       0.0, -20.0, 6800000.0)}\n",
      "Confusion Matrix\n",
      "[[  23586   38454    8321    6366   37332]\n",
      " [  11825 1229329   17879    5113   73179]\n",
      " [  14502   53829  494862    2578  104645]\n",
      " [   3025    1781     828   74095    3388]\n",
      " [   1428   18581    7839     687  125844]]\n",
      "Classification Report\n",
      "              precision    recall  f1-score   support\n",
      "\n",
      "           0       0.43      0.21      0.28    114059\n",
      "           1       0.92      0.92      0.92   1337325\n",
      "           2       0.93      0.74      0.82    670416\n",
      "           3       0.83      0.89      0.86     83117\n",
      "           4       0.37      0.82      0.50    154379\n",
      "\n",
      "    accuracy                           0.83   2359296\n",
      "   macro avg       0.70      0.71      0.68   2359296\n",
      "weighted avg       0.86      0.83      0.83   2359296\n",
      "\n"
     ]
    }
   ],
   "source": [
    "estimateModel()             "
   ]
  },
  {
   "cell_type": "code",
   "execution_count": null,
   "id": "cd67e666-ed27-4d26-81a7-f91d916767f1",
   "metadata": {},
   "outputs": [],
   "source": []
  }
 ],
 "metadata": {
  "kernelspec": {
   "display_name": "Python 3 (ipykernel)",
   "language": "python",
   "name": "python3"
  },
  "language_info": {
   "codemirror_mode": {
    "name": "ipython",
    "version": 3
   },
   "file_extension": ".py",
   "mimetype": "text/x-python",
   "name": "python",
   "nbconvert_exporter": "python",
   "pygments_lexer": "ipython3",
   "version": "3.9.7"
  }
 },
 "nbformat": 4,
 "nbformat_minor": 5
}
                                                                                                                                                                                                                                                                                                                                                                                                                                                                                                                                                                                                                                                                                                                                                                                                                                                                                                                                                                                                                                                                                                                                                                                                                                                                                                                                                                                                                                                                                                                                                                                                                                                                                                                                                                                                                                                                                                                                                                                                                                                                                                                                                                                                                                                                                                                                                                                                                                                                                                                                                                                                                                                                                                                                                                                                                                                                                                                                                                                                                                                                                                                                                                                                                                                                                                                                                                                                                                                                                                                                                                                                                                                                                                                                                                                                                                                                                                                                                                                                                                                                                                                                                                                                                                                                                                                                                                                                                                                                                                                                                                                                                                                                                                                                                                                                                                                                                                                                                                                                                                                                                                                                          