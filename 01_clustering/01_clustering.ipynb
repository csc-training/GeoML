{
 "cells": [
  {
   "cell_type": "markdown",
   "metadata": {},
   "source": [
    "# Clustering"
   ]
  },
  {
   "cell_type": "markdown",
   "metadata": {},
   "source": [
    "In this exercise k-means clustering is used for finding 5 clusters from a Sentinel-2 satellite image, that has 8 bands: 4 bands for two dates. The bands source data is:\n",
    "* 'b02' / '2021-05-11'\n",
    "* 'b02' / '2021-07-21'\n",
    "* 'b03' / '2021-05-11'\n",
    "* 'b03' / '2021-07-21'\n",
    "* 'b04' / '2021-05-11'\n",
    "* 'b04' / '2021-07-21'\n",
    "* 'b08' / '2021-05-11'\n",
    "* 'b08' / '2021-07-21'\n",
    "\n",
    "[Bands](https://custom-scripts.sentinel-hub.com/custom-scripts/sentinel-2/bands/): b02=blue, b03=green, b04=red, b08=infrared"
   ]
  },
  {
   "cell_type": "markdown",
   "metadata": {},
   "source": [
    "## Main steps"
   ]
  },
  {
   "cell_type": "markdown",
   "metadata": {},
   "source": [
    "1) Read data and shape it to suitable form for scikit-learn.\n",
    "2) Calculate clusters.\n",
    "3) Reshape results back to 2D raster.\n",
    "4) Plot restults.\n",
    "5) Save clustered image."
   ]
  },
  {
   "cell_type": "markdown",
   "metadata": {},
   "source": [
    "## Imports and paths"
   ]
  },
  {
   "cell_type": "code",
   "execution_count": null,
   "metadata": {},
   "outputs": [],
   "source": [
    "from sklearn.cluster import KMeans\n",
    "import rasterio\n",
    "import numpy as np\n",
    "import os\n",
    "import time\n",
    "import urllib\n",
    "from rasterio.windows import from_bounds"
   ]
  },
  {
   "cell_type": "code",
   "execution_count": null,
   "metadata": {},
   "outputs": [],
   "source": [
    "### File paths.\n",
    "# Source data URLs\n",
    "image_url = 'https://a3s.fi/gis-courses/gis_ml/image.tif'\n",
    "multiclass_classification_url = 'https://a3s.fi/gis-courses/gis_ml/labels_multiclass.tif'\n",
    "\n",
    "# Folders\n",
    "user = os.environ.get('USER')\n",
    "base_folder = os.path.join('/scratch/project_2002044', user, '2022/GeoML')\n",
    "dataFolder = os.path.join(base_folder,'data')\n",
    "outputBaseFolder= os.path.join(base_folder,'01_clustering')\n",
    "\n",
    "# Source data local paths\n",
    "image_file = os.path.join(dataFolder, 'image.tif')\n",
    "# Labels are used only for comparision, not for clustering\n",
    "multiclass_classification_file = os.path.join(dataFolder, 'labels_multiclass.tif')\n",
    "\n",
    "# Output path\n",
    "outputImage = os.path.join(outputBaseFolder,'clustering_KMeans.tif')\n",
    "\n",
    "# BBOX for exercise data, we use less than full image for clustering, because of speed and to better see the results when plotting.\n",
    "minx = 240500\n",
    "miny = 6775500\n",
    "maxx = 253500\n",
    "maxy = 6788500 "
   ]
  },
  {
   "cell_type": "markdown",
   "metadata": {},
   "source": [
    "(Download input data if needed.)"
   ]
  },
  {
   "cell_type": "code",
   "execution_count": null,
   "metadata": {},
   "outputs": [],
   "source": [
    "if not os.path.isdir(dataFolder):\n",
    "        os.makedirs(dataFolder)\n",
    "\n",
    "if not os.path.exists(image_file):\n",
    "    urllib.request.urlretrieve(image_url, image_file)\n",
    "     \n",
    "if not os.path.exists(multiclass_classification_file):\n",
    "    urllib.request.urlretrieve(multiclass_classification_url, multiclass_classification_file)   "
   ]
  },
  {
   "cell_type": "markdown",
   "metadata": {},
   "source": [
    "## Read data and shape it to suitable form for scikit-learn."
   ]
  },
  {
   "cell_type": "markdown",
   "metadata": {},
   "source": [
    "The satellite image has 8 channels, so rasterio reads it in as 3D data cube.\n",
    "\n",
    "For scikit-learn we reshape the data to 2D, having in dataframe one row for each pixel. Each pixel has eight values, one for each band/date."
   ]
  },
  {
   "cell_type": "code",
   "execution_count": null,
   "metadata": {},
   "outputs": [],
   "source": [
    "# Read the pixel values from .tif file as dataframe\n",
    "with rasterio.open(image_file) as image_dataset:\n",
    "    image_data = image_dataset.read(window=from_bounds(minx, miny, maxx, maxy, image_dataset.transform))\n",
    "    \n",
    "# We have to change the data format from bands x width x height to width*height x bands\n",
    "# This means that each pixel from the original dataset has own row in the result dataframe.\n",
    "# Check shape of input data\n",
    "print ('Dataframe original shape, 3D: ', image_data.shape)    "
   ]
  },
  {
   "cell_type": "markdown",
   "metadata": {},
   "source": [
    "Save number of bands for later, to be able to reshape data back to 2D."
   ]
  },
  {
   "cell_type": "code",
   "execution_count": null,
   "metadata": {},
   "outputs": [],
   "source": [
    "no_bands_in_image = image_data.shape[0]\n",
    "no_bands_in_image"
   ]
  },
  {
   "cell_type": "markdown",
   "metadata": {},
   "source": [
    "As a mid-step transponse the axis order, so that the bands are the last. Notice how the dataframe size changes."
   ]
  },
  {
   "cell_type": "code",
   "execution_count": null,
   "metadata": {},
   "outputs": [],
   "source": [
    "image_data2 = np.transpose(image_data, (1, 2, 0))\n",
    "# Check again the data shape, now the bands should be last.\n",
    "print ('Dataframe shape after transpose, 3D: ', image_data2.shape) "
   ]
  },
  {
   "cell_type": "markdown",
   "metadata": {},
   "source": [
    "Then reshape to 2D."
   ]
  },
  {
   "cell_type": "code",
   "execution_count": null,
   "metadata": {},
   "outputs": [],
   "source": [
    "pixels = image_data2.reshape(-1, no_bands_in_image)\n",
    "print ('Dataframe shape after transpose and reshape, 2D: ', pixels.shape) "
   ]
  },
  {
   "cell_type": "markdown",
   "metadata": {},
   "source": [
    "*How many pixels there is?*"
   ]
  },
  {
   "cell_type": "markdown",
   "metadata": {},
   "source": [
    "## Calculate clusters"
   ]
  },
  {
   "cell_type": "markdown",
   "metadata": {},
   "source": [
    "Find 5 clusters using 10 iterations. *Try also with for example 7 classes.*\n",
    "\n",
    "*This takes a moment, please wait*"
   ]
  },
  {
   "cell_type": "code",
   "execution_count": null,
   "metadata": {},
   "outputs": [],
   "source": [
    "classes = KMeans(n_clusters=5, random_state=63, max_iter=10).fit_predict(pixels)"
   ]
  },
  {
   "cell_type": "markdown",
   "metadata": {},
   "source": [
    "Check the results. *How many pixels each class has?*"
   ]
  },
  {
   "cell_type": "code",
   "execution_count": null,
   "metadata": {},
   "outputs": [],
   "source": [
    "np.unique(classes, return_counts=True)[1]"
   ]
  },
  {
   "cell_type": "markdown",
   "metadata": {},
   "source": [
    "## Reshape results back to 2D raster"
   ]
  },
  {
   "cell_type": "markdown",
   "metadata": {},
   "source": [
    "The clustering results are per pixel, so first reshape the data back to 2D raster."
   ]
  },
  {
   "cell_type": "code",
   "execution_count": null,
   "metadata": {},
   "outputs": [],
   "source": [
    "print ('Dataframe shape, output, 1D: ', classes.shape) "
   ]
  },
  {
   "cell_type": "code",
   "execution_count": null,
   "metadata": {},
   "outputs": [],
   "source": [
    "#Reshape back to 2D    \n",
    "classes2D = np.reshape(classes, (image_data.shape[1], image_data.shape[2]))\n",
    "print ('Dataframe shape, output after reshape, 2D: ', classes2D.shape)  "
   ]
  },
  {
   "cell_type": "markdown",
   "metadata": {},
   "source": [
    "## Plot results"
   ]
  },
  {
   "cell_type": "markdown",
   "metadata": {},
   "source": [
    "* Satellite image\n",
    "* Clustering results\n",
    "* Training labels\n",
    "* Clustering histogram"
   ]
  },
  {
   "cell_type": "code",
   "execution_count": null,
   "metadata": {},
   "outputs": [],
   "source": [
    "import matplotlib.pyplot as plt\n",
    "import matplotlib.colors\n",
    "%matplotlib inline\n",
    "from rasterio.plot import show\n",
    "from rasterio.plot import show_hist"
   ]
  },
  {
   "cell_type": "code",
   "execution_count": null,
   "metadata": {},
   "outputs": [],
   "source": [
    "### Help function for sentinel image plotting, to normalize band values and enhance contrast. Just what QGIS does automatically.\n",
    "def normalize(array):\n",
    "    min_percent = 2   # Low percentile\n",
    "    max_percent = 98  # High percentile\n",
    "    lo, hi = np.percentile(array, (min_percent, max_percent))\n",
    "    return (array - lo) / (hi - lo)"
   ]
  },
  {
   "cell_type": "code",
   "execution_count": null,
   "metadata": {},
   "outputs": [],
   "source": [
    "### Create a subplot for 4 images  \n",
    "fig, ax = plt.subplots(ncols=2, nrows=2, figsize=(10, 10))\n",
    "# If you have big screen, use bigger figsize, for example 15,15.\n",
    "\n",
    "# The Sentinel image   \n",
    "# Read the bands separately and apply the normalize function to each of them to increase contrast\n",
    "nir, red, green = image_data[7,], image_data[3,], image_data[1,]\n",
    "nirn, redn, greenn = normalize(nir), normalize(red), normalize(green)\n",
    "stacked = np.stack((nirn, redn, greenn))\n",
    "show(stacked, ax=ax[0,0], title='image') \n",
    "\n",
    "### The clustering results\n",
    "cmap = matplotlib.colors.LinearSegmentedColormap.from_list(\"\", [\"red\",\"yellow\",\"darkgreen\",\"violet\",\"blue\"]) \n",
    "show(classes2D, ax=ax[0, 1], cmap=cmap, title='Clustering classes')\n",
    "\n",
    "### The training multiclass labels\n",
    "with rasterio.open(multiclass_classification_file) as src:\n",
    "    labels_data = src.read(window=from_bounds(minx, miny, maxx, maxy, src.transform))\n",
    "    \n",
    "cmap = matplotlib.colors.LinearSegmentedColormap.from_list(\"\", [\"white\",\"green\",\"orange\",\"blue\",\"violet\"])\n",
    "show(labels_data, ax=ax[1, 0], cmap=cmap, title='Training labels')\n",
    "\n",
    "### The histogram of clustering results\n",
    "show_hist(classes2D, ax=ax[1, 1], bins=[-0.5,0.5,1.5,2.5,3.5,4.5], title=\"Clustering histogram\") "
   ]
  },
  {
   "cell_type": "markdown",
   "metadata": {},
   "source": [
    "## Save clustered image"
   ]
  },
  {
   "cell_type": "markdown",
   "metadata": {},
   "source": [
    "Save the result to a GeoTiff file. First prepare the metadata of the new file - compared to the original file, the new file has onlyl 1 band and int32 data type."
   ]
  },
  {
   "cell_type": "code",
   "execution_count": null,
   "metadata": {},
   "outputs": [],
   "source": [
    "meta = image_dataset.meta\n",
    "meta.update(count=1, dtype='int32')\n",
    "# Save the data\n",
    "with rasterio.open(outputImage, 'w', **meta) as dst:\n",
    "    dst.write(classes2D, 1)"
   ]
  }
 ],
 "metadata": {
  "kernelspec": {
   "display_name": "Python 3 (ipykernel)",
   "language": "python",
   "name": "python3"
  },
  "language_info": {
   "codemirror_mode": {
    "name": "ipython",
    "version": 3
   },
   "file_extension": ".py",
   "mimetype": "text/x-python",
   "name": "python",
   "nbconvert_exporter": "python",
   "pygments_lexer": "ipython3",
   "version": "3.10.6"
  }
 },
 "nbformat": 4,
 "nbformat_minor": 4
}
