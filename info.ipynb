{
 "cells": [
  {
   "cell_type": "markdown",
   "id": "04a68a13-d9e6-43bf-b016-84434c885a9d",
   "metadata": {},
   "source": [
    "# Welcome to the course environment!"
   ]
  },
  {
   "cell_type": "markdown",
   "id": "2a3a6bb4-2e06-4240-8ecc-ce9c691db23a",
   "metadata": {},
   "source": [
    "All exercises will be done in Jupyter notebooks.\n",
    "These notebooks include textual information (markdown cells) and executable codes (code cells).\n",
    "Code cells can be run with <CTRL + ENTER>.\n",
    "\n",
    "* How to add cells and switch between markdown/code\n",
    "* How to download own course environment after course\n",
    "\n",
    "Exercises are pre-filled but encourage to play around, change things and see what happens.\n",
    "\n",
    "Material is under MIT license -> can be reused.\n",
    "\n",
    "Answer: Why Python, why Jupyer, why the packages we chose."
   ]
  },
  {
   "cell_type": "code",
   "execution_count": 1,
   "id": "e5ea7153-e226-46cb-ab0d-4991773f304d",
   "metadata": {},
   "outputs": [
    {
     "name": "stdout",
     "output_type": "stream",
     "text": [
      "/scratch/project_2002044/samantha/GeoML22/GeoML\n"
     ]
    }
   ],
   "source": [
    "!pwd"
   ]
  },
  {
   "cell_type": "code",
   "execution_count": null,
   "id": "284e7462-2d0a-477c-b19c-e45bd201eb41",
   "metadata": {},
   "outputs": [],
   "source": []
  }
 ],
 "metadata": {
  "kernelspec": {
   "display_name": "Python 3.6.8 64-bit",
   "language": "python",
   "name": "python3"
  },
  "language_info": {
   "codemirror_mode": {
    "name": "ipython",
    "version": 3
   },
   "file_extension": ".py",
   "mimetype": "text/x-python",
   "name": "python",
   "nbconvert_exporter": "python",
   "pygments_lexer": "ipython3",
   "version": "3.6.8"
  },
  "vscode": {
   "interpreter": {
    "hash": "916dbcbb3f70747c44a77c7bcd40155683ae19c65e1c03b4aa3499c5328201f1"
   }
  }
 },
 "nbformat": 4,
 "nbformat_minor": 5
}
