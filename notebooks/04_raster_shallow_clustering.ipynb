{
 "cells": [
  {
   "cell_type": "markdown",
   "metadata": {},
   "source": [
    "# Exercise 4. Clustering"
   ]
  },
  {
   "cell_type": "markdown",
   "metadata": {},
   "source": [
    "In this exercise k-means clustering is used for finding 5 clusters from a 3 band Sentinel satellite image. The same image as for forest classification is used."
   ]
  },
  {
   "cell_type": "code",
   "execution_count": null,
   "metadata": {},
   "outputs": [],
   "source": [
    "from sklearn.cluster import KMeans\n",
    "import rasterio\n",
    "import numpy as np\n",
    "import os\n",
    "import time"
   ]
  },
  {
   "cell_type": "code",
   "execution_count": null,
   "metadata": {},
   "outputs": [],
   "source": [
    "### File paths.\n",
    "### Change the base_folder if needed\n",
    "\n",
    "base_folder='/home/jovyan/work/geocomputing/machineLearning/data/forest'\n",
    "inputImage =  os.path.join(base_folder,'T34VFM_20180829T100019_clipped_scaled.tif')\n",
    "outputImage = os.path.join(base_folder,'T34VFM_20180829T100019_KMeans.tif')\n",
    "satelliteImage = os.path.join(base_folder,'T34VFM_20180829T100019_clipped_scaled.tif')\n",
    "forestClasses = os.path.join(base_folder,'forest_species_reclassified_clip.tif')"
   ]
  },
  {
   "cell_type": "markdown",
   "metadata": {},
   "source": [
    "## 4.1 Read data and shape it to suitable form for scikit-learn."
   ]
  },
  {
   "cell_type": "markdown",
   "metadata": {},
   "source": [
    "The satellite image has 3 channels, so rasterio reads it in as 3D data cube.\n",
    "\n",
    "For scikit-learn we reshape the data to 2D, having in dataframe one row for each pixel. Each pixel has three values, one for each band."
   ]
  },
  {
   "cell_type": "code",
   "execution_count": null,
   "metadata": {},
   "outputs": [],
   "source": [
    "# Read the pixel values from .tif file as dataframe\n",
    "image_dataset = rasterio.open(inputImage)  \n",
    "image_data = image_dataset.read()\n",
    "\n",
    "# We have to change the data format from bands x width x height to width*height x bands\n",
    "# This means that each pixel from the original dataset has own row in the result dataframe.\n",
    "# Check shape of input data\n",
    "print ('Dataframe original shape, 3D: ', image_data.shape)    "
   ]
  },
  {
   "cell_type": "markdown",
   "metadata": {},
   "source": [
    "As a mid-step transponse the axis order, so that the bands are the last. Notice how the dataframe size changes."
   ]
  },
  {
   "cell_type": "code",
   "execution_count": null,
   "metadata": {},
   "outputs": [],
   "source": [
    "# First move the bands to last axis.\n",
    "image_data2 = np.transpose(image_data, (1, 2, 0))\n",
    "# Check again the data shape, now the bands should be last.\n",
    "print ('Dataframe shape after transpose, 3D: ', image_data2.shape) "
   ]
  },
  {
   "cell_type": "markdown",
   "metadata": {},
   "source": [
    "Then reshape to 2D."
   ]
  },
  {
   "cell_type": "code",
   "execution_count": null,
   "metadata": {},
   "outputs": [],
   "source": [
    "pixels = image_data2.reshape(-1, 3)\n",
    "print ('Dataframe shape after transpose and reshape, 2D: ', pixels.shape) "
   ]
  },
  {
   "cell_type": "markdown",
   "metadata": {},
   "source": [
    "*How many pixels there is?*"
   ]
  },
  {
   "cell_type": "markdown",
   "metadata": {},
   "source": [
    "## 4.2 Calculate clusters"
   ]
  },
  {
   "cell_type": "markdown",
   "metadata": {},
   "source": [
    "Find 5 clusters using 5 iterations. *Try also with for example 7 classes.*\n",
    "\n",
    "*This takes a moment, please wait*"
   ]
  },
  {
   "cell_type": "code",
   "execution_count": null,
   "metadata": {},
   "outputs": [],
   "source": [
    "classes = KMeans(n_clusters=5, random_state=63, max_iter=5).fit_predict(pixels)"
   ]
  },
  {
   "cell_type": "markdown",
   "metadata": {},
   "source": [
    "Check the results. *How many pixels each class has?*"
   ]
  },
  {
   "cell_type": "code",
   "execution_count": null,
   "metadata": {},
   "outputs": [],
   "source": [
    "np.unique(classes, return_counts=True)"
   ]
  },
  {
   "cell_type": "markdown",
   "metadata": {},
   "source": [
    "## 4.3 Reshape results back to 2D raster"
   ]
  },
  {
   "cell_type": "markdown",
   "metadata": {},
   "source": [
    "The clustering results are per pixel, so first reshape the data back to 2D raster."
   ]
  },
  {
   "cell_type": "code",
   "execution_count": null,
   "metadata": {},
   "outputs": [],
   "source": [
    "print ('Dataframe shape, output, 1D: ', classes.shape) "
   ]
  },
  {
   "cell_type": "code",
   "execution_count": null,
   "metadata": {},
   "outputs": [],
   "source": [
    "#Reshape back to 2D    \n",
    "classes2D = np.reshape(classes, (image_dataset.meta['height'], image_dataset.meta['width']))\n",
    "print ('Dataframe shape, output after reshape, 2D: ', classes2D.shape)  "
   ]
  },
  {
   "cell_type": "markdown",
   "metadata": {},
   "source": [
    "## 4.4 Plot results"
   ]
  },
  {
   "cell_type": "markdown",
   "metadata": {},
   "source": [
    "Create plots in similar way as in Exercise 2.\n",
    "\n",
    "* Satellite image\n",
    "* Clustering results\n",
    "* Forest"
   ]
  },
  {
   "cell_type": "code",
   "execution_count": null,
   "metadata": {},
   "outputs": [],
   "source": [
    "import matplotlib.pyplot as plt\n",
    "import matplotlib.colors\n",
    "%matplotlib inline\n",
    "import rasterio\n",
    "import numpy as np\n",
    "from rasterio.plot import show\n",
    "from rasterio.plot import show_hist"
   ]
  },
  {
   "cell_type": "code",
   "execution_count": null,
   "metadata": {},
   "outputs": [],
   "source": [
    "### Help function to normalize band values and enhance contrast. Just like what QGIS does automatically\n",
    "def normalize(array):\n",
    "    min_percent = 2   # Low percentile\n",
    "    max_percent = 98  # High percentile\n",
    "    lo, hi = np.percentile(array, (min_percent, max_percent))\n",
    "    return (array - lo) / (hi - lo)"
   ]
  },
  {
   "cell_type": "code",
   "execution_count": null,
   "metadata": {},
   "outputs": [],
   "source": [
    "### Create a subplot for 4 images and plot the sentinel image \n",
    "fig, ax = plt.subplots(ncols=2, nrows=2, figsize=(20, 20))\n",
    "\n",
    "### The Sentinel image   \n",
    "sentinel = rasterio.open(satelliteImage)\n",
    "\n",
    "### Read the bands separately and apply the normalize function to each of them to increase contrast\n",
    "nir, red, green = sentinel.read(1), sentinel.read(2), sentinel.read(3)\n",
    "nirn, redn, greenn = normalize(nir), normalize(red), normalize(green)\n",
    "stacked = np.dstack((nirn, redn, greenn))\n",
    "\n",
    "ax[0, 0].imshow(stacked)\n",
    "\n",
    "### The clustering results\n",
    "cmap = matplotlib.colors.LinearSegmentedColormap.from_list(\"\", [\"red\",\"yellow\",\"darkgreen\",\"violet\",\"blue\"]) #,\"white\",\"black\"\n",
    "show(classes2D, ax=ax[0, 1], cmap=cmap, title='Clustering classes')\n",
    "\n",
    "### The forest classification\n",
    "forest_classes = rasterio.open(forestClasses)\n",
    "cmap = matplotlib.colors.LinearSegmentedColormap.from_list(\"\", [\"white\",\"orange\",\"darkgreen\",\"violet\"])\n",
    "show(forest_classes, ax=ax[1, 0], cmap=cmap, title='Forest classes')\n",
    "\n",
    "### Plot the histogram of clustering results\n",
    "show_hist(classes2D, ax=ax[1, 1], bins=[-0.5,0.5,1.5,2.5,3.5,4.5], title=\"Clustering histogram\") #,5.5,6.5"
   ]
  },
  {
   "cell_type": "markdown",
   "metadata": {},
   "source": [
    "## 4.4 Save results"
   ]
  },
  {
   "cell_type": "markdown",
   "metadata": {},
   "source": [
    "Save the result to a GeoTiff file. First prepare the metadata of the new file - compared to the original file, the new file has onlyl 1 band and int32 data type."
   ]
  },
  {
   "cell_type": "code",
   "execution_count": null,
   "metadata": {},
   "outputs": [],
   "source": [
    "meta = image_dataset.meta\n",
    "meta.update(count=1, dtype='int32')\n",
    "# Save the data\n",
    "with rasterio.open(outputImage, 'w', **meta) as dst:\n",
    "    dst.write(classes2D, 1)"
   ]
  },
  {
   "cell_type": "code",
   "execution_count": null,
   "metadata": {},
   "outputs": [],
   "source": []
  }
 ],
 "metadata": {
  "kernelspec": {
   "display_name": "Python 3",
   "language": "python",
   "name": "python3"
  },
  "language_info": {
   "codemirror_mode": {
    "name": "ipython",
    "version": 3
   },
   "file_extension": ".py",
   "mimetype": "text/x-python",
   "name": "python",
   "nbconvert_exporter": "python",
   "pygments_lexer": "ipython3",
   "version": "3.8.5"
  }
 },
 "nbformat": 4,
 "nbformat_minor": 4
}
