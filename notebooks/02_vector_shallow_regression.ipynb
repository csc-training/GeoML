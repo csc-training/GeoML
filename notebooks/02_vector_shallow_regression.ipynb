{
 "cells": [
  {
   "cell_type": "markdown",
   "metadata": {},
   "source": [
    "# Shallow regression for vector data\n",
    "\n",
    "This script reads zip code data produced by **vectorDataPreparations** and creates different machine learning models for\n",
    "predicting the average zip code income from population and spatial variables.\n",
    "\n",
    "It assesses the model accuracy with a test dataset but also predicts the number to all zip codes and writes it to a geopackage\n",
    "for closer inspection"
   ]
  },
  {
   "cell_type": "markdown",
   "metadata": {},
   "source": [
    "# 1. Read the data"
   ]
  },
  {
   "cell_type": "code",
   "execution_count": null,
   "metadata": {},
   "outputs": [],
   "source": [
    "import time\n",
    "import geopandas as gpd\n",
    "import pandas as pd\n",
    "from math import sqrt\n",
    "import os\n",
    "import matplotlib.pyplot as plt\n",
    "\n",
    "from sklearn.ensemble import GradientBoostingRegressor, RandomForestRegressor, BaggingRegressor,ExtraTreesRegressor, AdaBoostRegressor\n",
    "from sklearn.model_selection import train_test_split\n",
    "from sklearn.metrics import mean_squared_error, mean_absolute_error,r2_score"
   ]
  },
  {
   "cell_type": "markdown",
   "metadata": {},
   "source": [
    "### 1.1 Input and output file paths "
   ]
  },
  {
   "cell_type": "code",
   "execution_count": null,
   "metadata": {},
   "outputs": [],
   "source": [
    "paavo_data = \"../data/paavo\"\n",
    "\n",
    "### Relative path to the zip code geopackage file that was prepared by vectorDataPreparations.py\n",
    "input_geopackage_path = os.path.join(paavo_data,\"zip_code_data_after_preparation.gpkg\")\n",
    "\n",
    "### Output file. You can change the name to identify different regression models\n",
    "output_geopackage_path = os.path.join(paavo_data,\"median_income_per_zipcode_shallow_model.gpkg\")"
   ]
  },
  {
   "cell_type": "markdown",
   "metadata": {},
   "source": [
    "### 1.2 Read the input data to a Geopandas dataframe"
   ]
  },
  {
   "cell_type": "code",
   "execution_count": null,
   "metadata": {},
   "outputs": [],
   "source": [
    "original_gdf = gpd.read_file(input_geopackage_path)\n",
    "original_gdf.head()"
   ]
  },
  {
   "cell_type": "markdown",
   "metadata": {},
   "source": [
    "# 2. Train the model \n",
    "\n",
    "Here we try training different models. We encourage you to dive into the documentation of different models a bit and try different parameters. \n",
    "\n",
    "Which one is the best model? Can you figure out how to improve it even more?"
   ]
  },
  {
   "cell_type": "markdown",
   "metadata": {},
   "source": [
    "### 2.1 Split the dataset to train and test datasets"
   ]
  },
  {
   "cell_type": "code",
   "execution_count": null,
   "metadata": {},
   "outputs": [],
   "source": [
    "### Split the gdf to x (the predictor attributes) and y (the attribute to be predicted)\n",
    "y = original_gdf['hr_mtu'] # Average income\n",
    "\n",
    "### Remove geometry and textual fields\n",
    "x = original_gdf.drop(['geometry','postinumer','nimi','hr_mtu'],axis=1)\n",
    "\n",
    "### Split the both datasets to train (80%) and test (20%) datasets\n",
    "x_train, x_test, y_train, y_test = train_test_split(x, y, test_size=.2, random_state=42)\n"
   ]
  },
  {
   "cell_type": "markdown",
   "metadata": {},
   "source": [
    "### 2.2 These are the functions used for training, estimating and predicting."
   ]
  },
  {
   "cell_type": "code",
   "execution_count": null,
   "metadata": {},
   "outputs": [],
   "source": [
    "def trainModel(x_train, y_train, model):\n",
    "    start_time = time.time()  \n",
    "    print(model)\n",
    "    model.fit(x_train,y_train)\n",
    "    print('Model training took: ', round((time.time() - start_time), 2), ' seconds')\n",
    "    return model\n",
    "\n",
    "def estimateModel(x_test,y_test, model):\n",
    "    ### Predict the unemployed number to the test dataset\n",
    "    prediction = model.predict(x_test)\n",
    "    \n",
    "    ### Assess the accuracy of the model with root mean squared error, mean absolute error and coefficient of determination r2\n",
    "    rmse = sqrt(mean_squared_error(y_test, prediction))\n",
    "    mae = mean_absolute_error(y_test, prediction)\n",
    "    r2 = r2_score(y_test, prediction)\n",
    "\n",
    "    print(f\"\\nMODEL ACCURACY METRICS WITH TEST DATASET: \\n\" +\n",
    "          f\"\\t Root mean squared error: {round(rmse)} \\n\" +\n",
    "          f\"\\t Mean absolute error: {round(mae)} \\n\" +\n",
    "          f\"\\t Coefficient of determination: {round(r2,4)} \\n\")"
   ]
  },
  {
   "cell_type": "markdown",
   "metadata": {},
   "source": [
    "### 2.3 Run different models"
   ]
  },
  {
   "cell_type": "markdown",
   "metadata": {},
   "source": [
    "### Gradient Boosting Regressor\n",
    "* https://scikit-learn.org/stable/modules/generated/sklearn.ensemble.GradientBoostingRegressor.html\n",
    "* https://scikit-learn.org/stable/modules/ensemble.html#regression"
   ]
  },
  {
   "cell_type": "code",
   "execution_count": null,
   "metadata": {},
   "outputs": [],
   "source": [
    "model = GradientBoostingRegressor(n_estimators=30, learning_rate=0.1,verbose=1)\n",
    "model_name = \"Gradient Boosting Regressor\"\n",
    "trainModel(x_train, y_train,model)\n",
    "estimateModel(x_test,y_test, model)"
   ]
  },
  {
   "cell_type": "markdown",
   "metadata": {},
   "source": [
    "### Random Forest Regressor\n",
    "\n",
    "* https://scikit-learn.org/stable/modules/generated/sklearn.ensemble.RandomForestRegressor.html\n",
    "* https://scikit-learn.org/stable/modules/ensemble.html#forest"
   ]
  },
  {
   "cell_type": "code",
   "execution_count": null,
   "metadata": {},
   "outputs": [],
   "source": [
    "model = RandomForestRegressor(n_estimators=30,verbose=1)\n",
    "model_name = \"Random Forest Regressor\"\n",
    "trainModel(x_train, y_train,model)\n",
    "estimateModel(x_test,y_test, model)"
   ]
  },
  {
   "cell_type": "markdown",
   "metadata": {},
   "source": [
    "### Extra Trees Regressor\n",
    "\n",
    "* https://scikit-learn.org/stable/modules/generated/sklearn.ensemble.ExtraTreesRegressor.html"
   ]
  },
  {
   "cell_type": "code",
   "execution_count": null,
   "metadata": {},
   "outputs": [],
   "source": [
    "model = ExtraTreesRegressor(n_estimators=30,verbose=1)\n",
    "model_name = \"Extra Trees Regressor\"\n",
    "trainModel(x_train, y_train,model)\n",
    "estimateModel(x_test,y_test, model)"
   ]
  },
  {
   "cell_type": "markdown",
   "metadata": {},
   "source": [
    "### Bagging Regressor\n",
    "\n",
    "* https://scikit-learn.org/stable/modules/generated/sklearn.ensemble.BaggingRegressor.html\n",
    "* https://scikit-learn.org/stable/modules/ensemble.html#bagging"
   ]
  },
  {
   "cell_type": "code",
   "execution_count": null,
   "metadata": {},
   "outputs": [],
   "source": [
    "model = BaggingRegressor(n_estimators=30,verbose=1)\n",
    "model_name = \"Bagging Regressor\"\n",
    "trainModel(x_train, y_train,model)\n",
    "estimateModel(x_test,y_test, model)"
   ]
  },
  {
   "cell_type": "markdown",
   "metadata": {},
   "source": [
    "### AdaBoost Regressor\n",
    "\n",
    "* https://scikit-learn.org/stable/modules/generated/sklearn.ensemble.AdaBoostRegressor.html\n",
    "* https://scikit-learn.org/stable/modules/ensemble.html#adaboost"
   ]
  },
  {
   "cell_type": "code",
   "execution_count": null,
   "metadata": {},
   "outputs": [],
   "source": [
    "model = AdaBoostRegressor(n_estimators=30)\n",
    "model_name = \"AdaBoost Regressor\"\n",
    "trainModel(x_train, y_train,model)\n",
    "estimateModel(x_test,y_test, model)"
   ]
  },
  {
   "cell_type": "markdown",
   "metadata": {},
   "source": [
    "# 3. Predict average income to all zip codes\n",
    "Here we predict the average income to the whole dataset. Prediction is done with the model you have stored in the model variable - the one you ran last"
   ]
  },
  {
   "cell_type": "code",
   "execution_count": null,
   "metadata": {},
   "outputs": [],
   "source": [
    "### Print chosen model (the one you ran last)\n",
    "print(model)\n",
    "\n",
    "### Drop the not-used columns from original_gdf as done before model training.\n",
    "x = original_gdf.drop(['geometry','postinumer','nimi','hr_mtu'],axis=1)\n",
    "\n",
    "### Predict the median income with already trained model\n",
    "prediction = model.predict(x)\n",
    "\n",
    "### Join the predictions to the original geodataframe and pick only interesting columns for results\n",
    "original_gdf['predicted_hr_mtu'] = prediction.round(0)\n",
    "original_gdf['difference'] = original_gdf['predicted_hr_mtu'] - original_gdf['hr_mtu']\n",
    "resulting_gdf = original_gdf[['postinumer','nimi','hr_mtu','predicted_hr_mtu','difference','geometry']]"
   ]
  },
  {
   "cell_type": "code",
   "execution_count": null,
   "metadata": {},
   "outputs": [],
   "source": [
    "fig, ax = plt.subplots(figsize=(20, 10))\n",
    "ax.set_title(\"Predicted average income by zip code \" + model_name, fontsize=25)\n",
    "ax.set_axis_off()\n",
    "resulting_gdf.plot(column='predicted_hr_mtu', ax=ax, legend=True, cmap=\"magma\")"
   ]
  },
  {
   "cell_type": "markdown",
   "metadata": {},
   "source": [
    "# 4. EXERCISE: Calculate the difference between real and predicted incomes\n",
    "\n",
    "Calculate the difference of real and predicted income amounts by zip code level and plot a map of it\n",
    "\n",
    "* **original_gdf** is the original dataframe\n",
    "* **resulting_gdf** is the predicted one"
   ]
  },
  {
   "cell_type": "code",
   "execution_count": null,
   "metadata": {},
   "outputs": [],
   "source": []
  },
  {
   "cell_type": "code",
   "execution_count": null,
   "metadata": {},
   "outputs": [],
   "source": []
  }
 ],
 "metadata": {
  "kernelspec": {
   "display_name": "Python 3",
   "language": "python",
   "name": "python3"
  },
  "language_info": {
   "codemirror_mode": {
    "name": "ipython",
    "version": 3
   },
   "file_extension": ".py",
   "mimetype": "text/x-python",
   "name": "python",
   "nbconvert_exporter": "python",
   "pygments_lexer": "ipython3",
   "version": "3.8.5"
  }
 },
 "nbformat": 4,
 "nbformat_minor": 4
}
