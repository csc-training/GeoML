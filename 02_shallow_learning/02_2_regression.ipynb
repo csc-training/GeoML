{
 "cells": [
  {
   "cell_type": "markdown",
   "metadata": {},
   "source": [
    "<div class=\"alert alert-block alert-info\">\n",
    "\n",
    "**TODO:**\n",
    "* check all texts\n",
    "* try scaled/unscaled data for trees\n",
    "* have it without outputs on Github\n",
    "* read train/test x and y from files\n",
    "* remove all but one decision tree and one non-decision tree models and make it task to find others and adjust their hyperparameters; provide \"solution\" script with % load solutions.py (note that this cell has to be run twice then)\n",
    "* Add info on used data and goal of exercise\n",
    "* make sure to make it possible to go through in 30 min\n",
    "    \n",
    "</div>"
   ]
  },
  {
   "cell_type": "markdown",
   "metadata": {},
   "source": [
    "# Shallow regression for vector data\n",
    "\n",
    "Reminder: We are within supervised learning (we have labels/targets that are real values) -> Regression\n",
    "\n",
    "\n",
    "In this notebook we read the zip code data produced by **01_2_vector_preparations** and create different machine learning models for\n",
    "predicting the average zip code income from population and spatial features.\n",
    "\n",
    "We will assesses the models error metrics with a test dataset but also predict the number to all zip codes and write the result to a geopackage for closer inspection.\n",
    "\n",
    "Notebook contents:\n",
    "0. Environment preparation\n",
    "1. Reading the data\n",
    "2. Function defintion\n",
    "3. Baseline naive approach\n",
    "4. Baseline linear regression\n",
    "5. Gradient Boosting\n",
    "6. Random Forest\n",
    "7. Bagging\n",
    "8. AdaBoost\n",
    "9. Comparing the models\n",
    "10. Task \n"
   ]
  },
  {
   "cell_type": "markdown",
   "metadata": {},
   "source": [
    "## 0. Environment preparation"
   ]
  },
  {
   "cell_type": "code",
   "execution_count": 1,
   "metadata": {},
   "outputs": [],
   "source": [
    "import time\n",
    "import geopandas as gpd\n",
    "import pandas as pd\n",
    "from math import sqrt\n",
    "import os\n",
    "import matplotlib.pyplot as plt\n",
    "from sklearn.linear_model import LinearRegression\n",
    "\n",
    "from sklearn.ensemble import GradientBoostingRegressor, RandomForestRegressor, BaggingRegressor,ExtraTreesRegressor, AdaBoostRegressor\n",
    "\n",
    "from sklearn.metrics import mean_squared_error, mean_absolute_error,r2_score\n",
    "\n",
    "import seaborn as sns "
   ]
  },
  {
   "cell_type": "markdown",
   "metadata": {},
   "source": [
    "## 1. Reading the data\n",
    "### 1.1 Define input and output file paths "
   ]
  },
  {
   "cell_type": "code",
   "execution_count": 2,
   "metadata": {},
   "outputs": [],
   "source": [
    "preprocessed_data_location = '../preprocessed_data'\n",
    "dataset_name = 'paavo' # to be changed to vector!\n",
    "\n",
    "train_dataset_name = os.path.join(preprocessed_data_location,dataset_name,'train_zip_code_data.gpkg')\n",
    "test_dataset_name = os.path.join(preprocessed_data_location,dataset_name,'test_zip_code_data.gpkg')\n",
    "train_label_name = os.path.join(preprocessed_data_location,dataset_name,'train_income_labels.pkl')\n",
    "test_label_name = os.path.join(preprocessed_data_location,dataset_name,'test_income_labels.pkl')\n",
    "\n",
    "\n",
    "### Relative path to the zip code geopackage file that was prepared by vectorDataPreparations.py\n",
    "input_geopackage_path = os.path.join(preprocessed_data_location,dataset_name,\"zip_code_data_after_preparation.gpkg\")\n",
    "\n",
    "### Output file. You can change the name to identify different regression models\n",
    "output_geopackage_path = os.path.join(preprocessed_data_location,dataset_name,\"median_income_per_zipcode_shallow_model.gpkg\")"
   ]
  },
  {
   "cell_type": "markdown",
   "metadata": {},
   "source": [
    "### 1.2 Reading the data"
   ]
  },
  {
   "cell_type": "code",
   "execution_count": 3,
   "metadata": {},
   "outputs": [
    {
     "data": {
      "text/html": [
       "<div>\n",
       "<style scoped>\n",
       "    .dataframe tbody tr th:only-of-type {\n",
       "        vertical-align: middle;\n",
       "    }\n",
       "\n",
       "    .dataframe tbody tr th {\n",
       "        vertical-align: top;\n",
       "    }\n",
       "\n",
       "    .dataframe thead th {\n",
       "        text-align: right;\n",
       "    }\n",
       "</style>\n",
       "<table border=\"1\" class=\"dataframe\">\n",
       "  <thead>\n",
       "    <tr style=\"text-align: right;\">\n",
       "      <th></th>\n",
       "      <th>postinumer</th>\n",
       "      <th>nimi</th>\n",
       "      <th>hr_mtu</th>\n",
       "      <th>euref_x</th>\n",
       "      <th>euref_y</th>\n",
       "      <th>pinta_ala</th>\n",
       "      <th>he_vakiy</th>\n",
       "      <th>he_naiset</th>\n",
       "      <th>he_miehet</th>\n",
       "      <th>he_kika</th>\n",
       "      <th>...</th>\n",
       "      <th>Pirkanmaa</th>\n",
       "      <th>Pohjanmaa</th>\n",
       "      <th>Pohjois-Karjala</th>\n",
       "      <th>Pohjois-Pohjanmaa</th>\n",
       "      <th>Pohjois-Savo</th>\n",
       "      <th>Päijät-Häme</th>\n",
       "      <th>Satakunta</th>\n",
       "      <th>Uusimaa</th>\n",
       "      <th>Varsinais-Suomi</th>\n",
       "      <th>geometry</th>\n",
       "    </tr>\n",
       "  </thead>\n",
       "  <tbody>\n",
       "    <tr>\n",
       "      <th>0</th>\n",
       "      <td>00100</td>\n",
       "      <td>Helsinki Keskusta - Etu-Töölö</td>\n",
       "      <td>27577.0</td>\n",
       "      <td>0.467824</td>\n",
       "      <td>0.029171</td>\n",
       "      <td>0.000303</td>\n",
       "      <td>0.679496</td>\n",
       "      <td>0.664961</td>\n",
       "      <td>0.644436</td>\n",
       "      <td>0.288462</td>\n",
       "      <td>...</td>\n",
       "      <td>0</td>\n",
       "      <td>0</td>\n",
       "      <td>0</td>\n",
       "      <td>0</td>\n",
       "      <td>0</td>\n",
       "      <td>0</td>\n",
       "      <td>0</td>\n",
       "      <td>1</td>\n",
       "      <td>0</td>\n",
       "      <td>MULTIPOLYGON (((385653.893 6671591.048, 385573...</td>\n",
       "    </tr>\n",
       "    <tr>\n",
       "      <th>1</th>\n",
       "      <td>00120</td>\n",
       "      <td>Punavuori</td>\n",
       "      <td>27523.0</td>\n",
       "      <td>0.468701</td>\n",
       "      <td>0.028337</td>\n",
       "      <td>0.000029</td>\n",
       "      <td>0.263362</td>\n",
       "      <td>0.258205</td>\n",
       "      <td>0.249572</td>\n",
       "      <td>0.269231</td>\n",
       "      <td>...</td>\n",
       "      <td>0</td>\n",
       "      <td>0</td>\n",
       "      <td>0</td>\n",
       "      <td>0</td>\n",
       "      <td>0</td>\n",
       "      <td>0</td>\n",
       "      <td>0</td>\n",
       "      <td>1</td>\n",
       "      <td>0</td>\n",
       "      <td>MULTIPOLYGON (((385316.092 6671076.984, 385279...</td>\n",
       "    </tr>\n",
       "    <tr>\n",
       "      <th>2</th>\n",
       "      <td>00130</td>\n",
       "      <td>Kaartinkaupunki</td>\n",
       "      <td>30479.0</td>\n",
       "      <td>0.469833</td>\n",
       "      <td>0.028373</td>\n",
       "      <td>0.000031</td>\n",
       "      <td>0.055110</td>\n",
       "      <td>0.053156</td>\n",
       "      <td>0.053591</td>\n",
       "      <td>0.288462</td>\n",
       "      <td>...</td>\n",
       "      <td>0</td>\n",
       "      <td>0</td>\n",
       "      <td>0</td>\n",
       "      <td>0</td>\n",
       "      <td>0</td>\n",
       "      <td>0</td>\n",
       "      <td>0</td>\n",
       "      <td>1</td>\n",
       "      <td>0</td>\n",
       "      <td>MULTIPOLYGON (((386212.111 6671061.262, 386176...</td>\n",
       "    </tr>\n",
       "    <tr>\n",
       "      <th>3</th>\n",
       "      <td>00140</td>\n",
       "      <td>Kaivopuisto - Ullanlinna</td>\n",
       "      <td>29439.0</td>\n",
       "      <td>0.470071</td>\n",
       "      <td>0.027735</td>\n",
       "      <td>0.000102</td>\n",
       "      <td>0.291434</td>\n",
       "      <td>0.295189</td>\n",
       "      <td>0.265798</td>\n",
       "      <td>0.288462</td>\n",
       "      <td>...</td>\n",
       "      <td>0</td>\n",
       "      <td>0</td>\n",
       "      <td>0</td>\n",
       "      <td>0</td>\n",
       "      <td>0</td>\n",
       "      <td>0</td>\n",
       "      <td>0</td>\n",
       "      <td>1</td>\n",
       "      <td>0</td>\n",
       "      <td>MULTIPOLYGON (((386577.050 6670280.544, 386552...</td>\n",
       "    </tr>\n",
       "    <tr>\n",
       "      <th>4</th>\n",
       "      <td>00150</td>\n",
       "      <td>Eira - Hernesaari</td>\n",
       "      <td>26546.0</td>\n",
       "      <td>0.468366</td>\n",
       "      <td>0.027381</td>\n",
       "      <td>0.000163</td>\n",
       "      <td>0.345510</td>\n",
       "      <td>0.344729</td>\n",
       "      <td>0.320729</td>\n",
       "      <td>0.269231</td>\n",
       "      <td>...</td>\n",
       "      <td>0</td>\n",
       "      <td>0</td>\n",
       "      <td>0</td>\n",
       "      <td>0</td>\n",
       "      <td>0</td>\n",
       "      <td>0</td>\n",
       "      <td>0</td>\n",
       "      <td>1</td>\n",
       "      <td>0</td>\n",
       "      <td>MULTIPOLYGON (((384846.102 6669565.816, 384823...</td>\n",
       "    </tr>\n",
       "  </tbody>\n",
       "</table>\n",
       "<p>5 rows × 120 columns</p>\n",
       "</div>"
      ],
      "text/plain": [
       "  postinumer                           nimi   hr_mtu   euref_x   euref_y  \\\n",
       "0      00100  Helsinki Keskusta - Etu-Töölö  27577.0  0.467824  0.029171   \n",
       "1      00120                      Punavuori  27523.0  0.468701  0.028337   \n",
       "2      00130                Kaartinkaupunki  30479.0  0.469833  0.028373   \n",
       "3      00140       Kaivopuisto - Ullanlinna  29439.0  0.470071  0.027735   \n",
       "4      00150              Eira - Hernesaari  26546.0  0.468366  0.027381   \n",
       "\n",
       "   pinta_ala  he_vakiy  he_naiset  he_miehet   he_kika  ...  Pirkanmaa  \\\n",
       "0   0.000303  0.679496   0.664961   0.644436  0.288462  ...          0   \n",
       "1   0.000029  0.263362   0.258205   0.249572  0.269231  ...          0   \n",
       "2   0.000031  0.055110   0.053156   0.053591  0.288462  ...          0   \n",
       "3   0.000102  0.291434   0.295189   0.265798  0.288462  ...          0   \n",
       "4   0.000163  0.345510   0.344729   0.320729  0.269231  ...          0   \n",
       "\n",
       "   Pohjanmaa  Pohjois-Karjala  Pohjois-Pohjanmaa  Pohjois-Savo  Päijät-Häme  \\\n",
       "0          0                0                  0             0            0   \n",
       "1          0                0                  0             0            0   \n",
       "2          0                0                  0             0            0   \n",
       "3          0                0                  0             0            0   \n",
       "4          0                0                  0             0            0   \n",
       "\n",
       "   Satakunta  Uusimaa  Varsinais-Suomi  \\\n",
       "0          0        1                0   \n",
       "1          0        1                0   \n",
       "2          0        1                0   \n",
       "3          0        1                0   \n",
       "4          0        1                0   \n",
       "\n",
       "                                            geometry  \n",
       "0  MULTIPOLYGON (((385653.893 6671591.048, 385573...  \n",
       "1  MULTIPOLYGON (((385316.092 6671076.984, 385279...  \n",
       "2  MULTIPOLYGON (((386212.111 6671061.262, 386176...  \n",
       "3  MULTIPOLYGON (((386577.050 6670280.544, 386552...  \n",
       "4  MULTIPOLYGON (((384846.102 6669565.816, 384823...  \n",
       "\n",
       "[5 rows x 120 columns]"
      ]
     },
     "execution_count": 3,
     "metadata": {},
     "output_type": "execute_result"
    }
   ],
   "source": [
    "# read train and test datasets\n",
    "x_train = gpd.read_file(train_dataset_name)\n",
    "x_test = gpd.read_file(test_dataset_name)\n",
    "y_train = pd.read_pickle(train_label_name)\n",
    "y_test = pd.read_pickle(test_label_name)"
   ]
  },
  {
   "cell_type": "markdown",
   "metadata": {},
   "source": [
    "# 2. Function definitions\n",
    "\n"
   ]
  },
  {
   "cell_type": "code",
   "execution_count": null,
   "metadata": {},
   "outputs": [],
   "source": [
    "# calculating error metrics for regression predictions\n",
    "\n",
    "def calculate_error_metrics(test_labels,label_predictions, model_name):\n",
    "\n",
    "    #Asessing the performance of the model with root mean squared error, mean absolute error and coefficient of determination r2\n",
    "    rmse = sqrt(mean_squared_error(test_labels, label_predictions))\n",
    "    mae = mean_absolute_error(test_labels, label_predictions)\n",
    "    r2 = r2_score(test_labels, label_predictions)\n",
    "\n",
    "    # store them in a dictionary\n",
    "    metrics_dict = zip(['model','RMSE','MAE','R2'],[model_name,rmse,mae,r2])\n",
    "\n",
    "    return metrics_dict\n",
    "\n",
    "\n",
    "def print_and_store_error_metrics(test_labels, label_predictions, model_name, metrics_collection = None):\n",
    "\n",
    "    metrics_dict = calculate_error_metrics(test_labels, label_predictions)\n",
    "\n",
    "    # in case these are the first results we want to store in that dataframe, we need to first create it\n",
    "    if metrics_collection is None:\n",
    "        metrics_collection = pd.DataFrame(columns=['model','RMSE','MAE','R2'])\n",
    " \n",
    "    metrics_collection = metrics_collection.append(metrics_dict, ignore_index=True)\n",
    "\n",
    "    print(f\"\\nError metrics for {model_name} on the test dataset: \\n\" +\n",
    "          f\"\\t Root mean squared error (RMSE): {round(metrics_dict['RMSE'])} \\n\" +\n",
    "          f\"\\t Mean absolute error (MAE): {round(metrics_dict['MAE'])} \\n\" +\n",
    "          f\"\\t Coefficient of determination (R2): {round(metrics_dict['R2'],4)} \\n\")\n",
    "\n",
    "    return metrics_collection\n",
    "\n",
    "# to time the model training we create a function for model training\n",
    "def train_model(x_train, y_train, model):\n",
    "    start_time = time.time()  \n",
    "    print(model)\n",
    "    model.fit(x_train,y_train)\n",
    "    print('Model training took: ', round((time.time() - start_time), 2), ' seconds')\n",
    "    return model"
   ]
  },
  {
   "cell_type": "markdown",
   "metadata": {},
   "source": [
    "# 3. Baseline naive approach\n",
    "\n",
    "In order to determine, how well machine learning models perform on our dataset, we create some baseline results.\n",
    "One way to get baseline results is taking the median of y labels in the training dataset and use this as the prediction for all labels. Very naive, but not a realistic assumption.\n",
    "\n"
   ]
  },
  {
   "cell_type": "code",
   "execution_count": null,
   "metadata": {},
   "outputs": [],
   "source": [
    "\n",
    "# the median training labels provides the predicted lable\n",
    "naive_prediction_value = y_train.median()\n",
    "naive_name = \"Naive median prediction\"\n",
    "print(naive_prediction_value)\n",
    "# the naive prediction value still needs to be repeated to fit with the features\n",
    "naive_predictions = pd.DataFrame([naive_prediction_value]* y_test.shape[0])\n",
    "# then we can get some accuracy measures\n",
    "metrics_collection = print_and_store_error_metrics(y_test,naive_predictions, naive_name)"
   ]
  },
  {
   "cell_type": "markdown",
   "metadata": {},
   "source": [
    "### 4. Baseline Linear regression \n",
    "\n",
    "Another baseline approach for regression is linear regression. Compared to any of the following models it is still easy to compute."
   ]
  },
  {
   "cell_type": "code",
   "execution_count": 30,
   "metadata": {},
   "outputs": [
    {
     "name": "stdout",
     "output_type": "stream",
     "text": [
      "                 Coefficient value\n",
      "euref_x                 245.472829\n",
      "euref_y               -3138.965227\n",
      "pinta_ala              -519.491728\n",
      "he_vakiy            -701947.425354\n",
      "he_naiset           -704846.512958\n",
      "...                            ...\n",
      "Pohjois-Savo            -70.513793\n",
      "Päijät-Häme            -237.434421\n",
      "Satakunta              -177.736695\n",
      "Uusimaa                 -67.035445\n",
      "Varsinais-Suomi        -252.692260\n",
      "\n",
      "[116 rows x 1 columns]\n",
      "0.8501981542418442\n",
      "0.8904321555840112\n"
     ]
    }
   ],
   "source": [
    "\n",
    "linear = LinearRegression()\n",
    "linear_name = \"Linear Regression\"\n",
    "linear.fit(x_train, y_train)\n",
    "linear_predictions = linear.predict(x_test)\n",
    "\n",
    "# get feature importance via their coefficients\n",
    "feature_names = x_train.columns\n",
    "model_coefficients = linear.coef_\n",
    "\n",
    "coefficients_df = pd.DataFrame(data = model_coefficients, index = feature_names, columns = ['Coefficient value'])\n",
    "print(coefficients_df)\n",
    "# largest absolute values show the most important features\n",
    "\n",
    "metrics_collection = print_and_store_error_metrics(y_test,linear_predictions, linear_name, metrics_collection)"
   ]
  },
  {
   "cell_type": "markdown",
   "metadata": {},
   "source": [
    "## 5. Gradient Boosting Regressor"
   ]
  },
  {
   "cell_type": "markdown",
   "metadata": {},
   "source": [
    "\n",
    "* https://scikit-learn.org/stable/modules/generated/sklearn.ensemble.GradientBoostingRegressor.html\n",
    "* https://scikit-learn.org/stable/modules/ensemble.html#regression"
   ]
  },
  {
   "cell_type": "code",
   "execution_count": 6,
   "metadata": {},
   "outputs": [
    {
     "name": "stdout",
     "output_type": "stream",
     "text": [
      "GradientBoostingRegressor(n_estimators=30, verbose=1)\n",
      "      Iter       Train Loss   Remaining Time \n",
      "         1     8668381.1560            1.01s\n",
      "         2     7527263.4187            0.95s\n",
      "         3     6578597.1849            0.90s\n",
      "         4     5770589.0947            0.86s\n",
      "         5     5087152.9130            0.83s\n",
      "         6     4510100.2753            0.80s\n",
      "         7     4031858.3436            0.76s\n",
      "         8     3634256.0016            0.73s\n",
      "         9     3296767.1062            0.69s\n",
      "        10     3007253.3094            0.66s\n",
      "        20     1627021.2128            0.32s\n",
      "        30     1220796.5502            0.00s\n",
      "Model training took:  0.96  seconds\n",
      "\n",
      "MODEL ACCURACY METRICS WITH TEST DATASET: \n",
      "\t Root mean squared error: 1231 \n",
      "\t Mean absolute error: 910 \n",
      "\t Coefficient of determination: 0.8383 \n",
      "\n"
     ]
    }
   ],
   "source": [
    "grad_boost = GradientBoostingRegressor(n_estimators=30, learning_rate=0.1,verbose=1)\n",
    "grad_boost_name = \"Gradient Boosting Regressor\"\n",
    "grad_boost = train_model(x_train, y_train,grad_boost)\n",
    "grad_boost_predictions = grad_boost.predict(x_test)\n",
    "metrics_collection = print_and_store_error_metrics(y_test,grad_boost_predictions, grad_boost_name, metrics_collection)\n"
   ]
  },
  {
   "cell_type": "markdown",
   "metadata": {},
   "source": [
    "## 6. Random Forest Regressor\n",
    "\n",
    "* https://scikit-learn.org/stable/modules/generated/sklearn.ensemble.RandomForestRegressor.html\n",
    "* https://scikit-learn.org/stable/modules/ensemble.html#forest\n",
    "\n",
    "Cannot extrapolate beyond training dataset; mostly used for classification"
   ]
  },
  {
   "cell_type": "code",
   "execution_count": 7,
   "metadata": {},
   "outputs": [
    {
     "name": "stdout",
     "output_type": "stream",
     "text": [
      "RandomForestRegressor(n_estimators=30, verbose=1)\n"
     ]
    },
    {
     "name": "stderr",
     "output_type": "stream",
     "text": [
      "[Parallel(n_jobs=1)]: Using backend SequentialBackend with 1 concurrent workers.\n"
     ]
    },
    {
     "name": "stdout",
     "output_type": "stream",
     "text": [
      "Model training took:  2.28  seconds\n",
      "\n",
      "MODEL ACCURACY METRICS WITH TEST DATASET: \n",
      "\t Root mean squared error: 1181 \n",
      "\t Mean absolute error: 861 \n",
      "\t Coefficient of determination: 0.8511 \n",
      "\n"
     ]
    },
    {
     "name": "stderr",
     "output_type": "stream",
     "text": [
      "[Parallel(n_jobs=1)]: Done  30 out of  30 | elapsed:    2.3s finished\n",
      "[Parallel(n_jobs=1)]: Using backend SequentialBackend with 1 concurrent workers.\n",
      "[Parallel(n_jobs=1)]: Done  30 out of  30 | elapsed:    0.0s finished\n"
     ]
    }
   ],
   "source": [
    "random_forest = RandomForestRegressor(n_estimators=30,verbose=1)\n",
    "random_forest_name = \"Random Forest Regressor\"\n",
    "\n",
    "random_forest = train_model(x_train, y_train,random_forest)\n",
    "random_forest_predictions = random_forest.predict(x_test)\n",
    "metrics_collection = print_and_store_error_metrics(y_test,random_forest_predictions, random_forest_name, metrics_collection)"
   ]
  },
  {
   "cell_type": "code",
   "execution_count": null,
   "metadata": {},
   "outputs": [],
   "source": [
    "\n",
    "#let's take a look at feature importances\n",
    "feature_importances = pd.DataFrame(random_forest.feature_importances_, index =random_forest.columns,  columns=['importance']).sort_values('importance', ascending=False)\n",
    "feature_importances.head()"
   ]
  },
  {
   "cell_type": "markdown",
   "metadata": {},
   "source": [
    "## 7. Extra Trees Regressor\n",
    "\n",
    "* https://scikit-learn.org/stable/modules/generated/sklearn.ensemble.ExtraTreesRegressor.html"
   ]
  },
  {
   "cell_type": "code",
   "execution_count": 8,
   "metadata": {},
   "outputs": [
    {
     "name": "stdout",
     "output_type": "stream",
     "text": [
      "ExtraTreesRegressor(n_estimators=30, verbose=1)\n"
     ]
    },
    {
     "name": "stderr",
     "output_type": "stream",
     "text": [
      "[Parallel(n_jobs=1)]: Using backend SequentialBackend with 1 concurrent workers.\n"
     ]
    },
    {
     "name": "stdout",
     "output_type": "stream",
     "text": [
      "Model training took:  1.02  seconds\n",
      "\n",
      "MODEL ACCURACY METRICS WITH TEST DATASET: \n",
      "\t Root mean squared error: 1143 \n",
      "\t Mean absolute error: 832 \n",
      "\t Coefficient of determination: 0.8605 \n",
      "\n"
     ]
    },
    {
     "name": "stderr",
     "output_type": "stream",
     "text": [
      "[Parallel(n_jobs=1)]: Done  30 out of  30 | elapsed:    1.0s finished\n",
      "[Parallel(n_jobs=1)]: Using backend SequentialBackend with 1 concurrent workers.\n",
      "[Parallel(n_jobs=1)]: Done  30 out of  30 | elapsed:    0.0s finished\n"
     ]
    }
   ],
   "source": [
    "extra_trees = ExtraTreesRegressor(n_estimators=30,verbose=1)\n",
    "extra_trees_name = \"Extra Trees Regressor\"\n",
    "\n",
    "extra_trees = train_model(x_train, y_train,extra_trees)\n",
    "extra_trees_predictions = extra_trees.predict(x_test)\n",
    "metrics_collection = print_and_store_error_metrics(y_test,extra_trees_predictions, extra_trees_name, metrics_collection)"
   ]
  },
  {
   "cell_type": "markdown",
   "metadata": {},
   "source": [
    "## 8. Bagging Regressor\n",
    "\n",
    "* https://scikit-learn.org/stable/modules/generated/sklearn.ensemble.BaggingRegressor.html\n",
    "* https://scikit-learn.org/stable/modules/ensemble.html#bagging"
   ]
  },
  {
   "cell_type": "code",
   "execution_count": 9,
   "metadata": {},
   "outputs": [
    {
     "name": "stdout",
     "output_type": "stream",
     "text": [
      "BaggingRegressor(n_estimators=30, verbose=1)\n"
     ]
    },
    {
     "name": "stderr",
     "output_type": "stream",
     "text": [
      "[Parallel(n_jobs=1)]: Using backend SequentialBackend with 1 concurrent workers.\n"
     ]
    },
    {
     "name": "stdout",
     "output_type": "stream",
     "text": [
      "Model training took:  2.29  seconds\n",
      "\n",
      "MODEL ACCURACY METRICS WITH TEST DATASET: \n",
      "\t Root mean squared error: 1204 \n",
      "\t Mean absolute error: 872 \n",
      "\t Coefficient of determination: 0.8453 \n",
      "\n"
     ]
    },
    {
     "name": "stderr",
     "output_type": "stream",
     "text": [
      "[Parallel(n_jobs=1)]: Done   1 out of   1 | elapsed:    2.3s finished\n",
      "[Parallel(n_jobs=1)]: Using backend SequentialBackend with 1 concurrent workers.\n",
      "[Parallel(n_jobs=1)]: Done   1 out of   1 | elapsed:    0.0s finished\n"
     ]
    }
   ],
   "source": [
    "bagging = BaggingRegressor(n_estimators=30,verbose=1)\n",
    "bagging_name = \"Bagging Regressor\"\n",
    "\n",
    "baggings = train_model(x_train, y_train,bagging)\n",
    "bagging_predictions = bagging.predict(x_test)\n",
    "metrics_collection = print_and_store_error_metrics(y_test,bagging_predictions, bagging_name, metrics_collection)"
   ]
  },
  {
   "cell_type": "markdown",
   "metadata": {},
   "source": [
    "## 8. AdaBoost Regressor\n",
    "\n",
    "* https://scikit-learn.org/stable/modules/generated/sklearn.ensemble.AdaBoostRegressor.html\n",
    "* https://scikit-learn.org/stable/modules/ensemble.html#adaboost"
   ]
  },
  {
   "cell_type": "code",
   "execution_count": 10,
   "metadata": {},
   "outputs": [
    {
     "name": "stdout",
     "output_type": "stream",
     "text": [
      "AdaBoostRegressor(n_estimators=30)\n",
      "Model training took:  0.72  seconds\n",
      "\n",
      "MODEL ACCURACY METRICS WITH TEST DATASET: \n",
      "\t Root mean squared error: 1394 \n",
      "\t Mean absolute error: 1099 \n",
      "\t Coefficient of determination: 0.7927 \n",
      "\n"
     ]
    }
   ],
   "source": [
    "ada_boost = AdaBoostRegressor(n_estimators=30)\n",
    "ada_boost_name = \"AdaBoost Regressor\"\n",
    "\n",
    "ada_boost = train_model(x_train, y_train,ada_boost)\n",
    "ada_boost_predictions = ada_boost.predict(x_test)\n",
    "metrics_collection = print_and_store_error_metrics(y_test,ada_boost_predictions, ada_boost_name, metrics_collection)"
   ]
  },
  {
   "cell_type": "markdown",
   "metadata": {},
   "source": [
    "## 9. Model comparison"
   ]
  },
  {
   "cell_type": "code",
   "execution_count": null,
   "metadata": {},
   "outputs": [],
   "source": [
    "print(metrics_collection.sort_values(by=['RMSE'], ascending=False))"
   ]
  },
  {
   "cell_type": "markdown",
   "metadata": {},
   "source": [
    "## 10. Task\n",
    "\n",
    "Study the scikit-learn documentation of one of the above used models and experiment with different hyperparameter values. Can you improve on the accuracy or make the training faster?\n",
    "Report the best results and mark down parameters used, so that others can reproduce the results."
   ]
  },
  {
   "cell_type": "code",
   "execution_count": null,
   "metadata": {},
   "outputs": [],
   "source": []
  }
 ],
 "metadata": {
  "kernelspec": {
   "display_name": "Python 3 (ipykernel)",
   "language": "python",
   "name": "python3"
  },
  "language_info": {
   "codemirror_mode": {
    "name": "ipython",
    "version": 3
   },
   "file_extension": ".py",
   "mimetype": "text/x-python",
   "name": "python",
   "nbconvert_exporter": "python",
   "pygments_lexer": "ipython3",
   "version": "3.6.8"
  },
  "vscode": {
   "interpreter": {
    "hash": "916dbcbb3f70747c44a77c7bcd40155683ae19c65e1c03b4aa3499c5328201f1"
   }
  }
 },
 "nbformat": 4,
 "nbformat_minor": 4
}
