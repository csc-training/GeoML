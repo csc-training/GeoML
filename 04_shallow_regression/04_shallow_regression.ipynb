{
 "cells": [
  {
   "cell_type": "markdown",
   "metadata": {},
   "source": [
    "<div class=\"alert alert-block alert-info\">\n",
    "\n",
    "**TODO:**\n",
    "* check all texts\n",
    "* fix comments\n",
    "* testing here with validation; final tests with test set\n",
    "* try scaled/unscaled data for trees\n",
    "* have it without outputs on Github\n",
    "* remove all but one decision tree and one non-decision tree models and make it task to find others and adjust their hyperparameters; provide \"solution\" script with % load solutions.py (note that this cell has to be run twice then)\n",
    "* Add info on used data and goal of exercise\n",
    "* make sure to make it possible to go through in 30 min\n",
    "    \n",
    "</div>"
   ]
  },
  {
   "cell_type": "markdown",
   "metadata": {},
   "source": [
    "# Shallow regression for vector data\n",
    "\n",
    "Reminder: We are within supervised learning (we have labels/targets that are real values) -> Regression\n",
    "\n",
    "\n",
    "In this notebook we read the zip code data produced by **02_vector_preparations** and create different machine learning models for\n",
    "predicting the average zip code income from population and spatial features.\n",
    "\n",
    "We will assesses the models error metrics with a test dataset but also predict the number to all zip codes and write the result to a geopackage for closer inspection.\n",
    "\n",
    "Notebook contents:\n",
    "0. Environment preparation\n",
    "1. Reading the data\n",
    "2. Function defintion\n",
    "3. Baseline naive approach\n",
    "4. Baseline linear regression\n",
    "5. Gradient Boosting\n",
    "6. Random Forest\n",
    "7. Bagging\n",
    "8. AdaBoost\n",
    "9. Comparing the models\n",
    "10. Task \n"
   ]
  },
  {
   "cell_type": "markdown",
   "metadata": {},
   "source": [
    "## 0. Environment preparation"
   ]
  },
  {
   "cell_type": "code",
   "execution_count": 41,
   "metadata": {},
   "outputs": [],
   "source": [
    "import time\n",
    "import geopandas as gpd\n",
    "import pandas as pd\n",
    "from math import sqrt\n",
    "import os\n",
    "import matplotlib.pyplot as plt\n",
    "from sklearn.linear_model import LinearRegression\n",
    "\n",
    "from sklearn.ensemble import GradientBoostingRegressor, RandomForestRegressor, BaggingRegressor,ExtraTreesRegressor, AdaBoostRegressor\n",
    "\n",
    "from sklearn.metrics import mean_squared_error, mean_absolute_error,r2_score\n",
    "\n",
    "import seaborn as sns "
   ]
  },
  {
   "cell_type": "markdown",
   "metadata": {},
   "source": [
    "## 1. Reading the data\n",
    "### 1.1 Define input and output file paths "
   ]
  },
  {
   "cell_type": "code",
   "execution_count": 42,
   "metadata": {},
   "outputs": [],
   "source": [
    "username = os.environ.get('USER')\n",
    "base_directory= f'/scratch/project_2002044/{username}/2022/GeoML'\n",
    "\n",
    "data_directory = os.path.join(base_directory,'data')\n",
    "\n",
    "preprocessed_data_directory = os.path.join(data_directory,'preprocessed_regression')\n",
    "train_dataset_name = os.path.join(preprocessed_data_directory,'train_zip_code_data.csv')\n",
    "test_dataset_name = os.path.join(preprocessed_data_directory,'test_zip_code_data.csv')\n",
    "val_dataset_name = os.path.join(preprocessed_data_directory,'val_zip_code_data.csv')\n",
    "train_label_name = os.path.join(preprocessed_data_directory,'train_income_labels.pkl')\n",
    "test_label_name = os.path.join(preprocessed_data_directory,'test_income_labels.pkl')\n",
    "val_label_name = os.path.join(preprocessed_data_directory,'val_income_labels.pkl')\n",
    "\n",
    "\n",
    "metrics_filename = os.path.join(base_directory,'shallow_regression','shallow_metrics.csv')"
   ]
  },
  {
   "cell_type": "markdown",
   "metadata": {},
   "source": [
    "### 1.2 Reading the data"
   ]
  },
  {
   "cell_type": "code",
   "execution_count": 43,
   "metadata": {},
   "outputs": [
    {
     "name": "stdout",
     "output_type": "stream",
     "text": [
      "       euref_x   euref_y  pinta_ala  he_vakiy  he_naiset  he_miehet   he_kika  \\\n",
      "0     0.586106  0.670425   0.037669  0.013195   0.012128   0.014689  0.388889   \n",
      "1     0.967504  0.253283   0.009177  0.001619   0.001946   0.001461  0.703704   \n",
      "2     0.651690  0.380416   0.014208  0.036806   0.032492   0.042144  0.277778   \n",
      "3     0.642178  1.000000   0.405371  0.023048   0.020559   0.026225  0.444444   \n",
      "4     0.460438  0.040723   0.000849  0.175024   0.161359   0.191417  0.166667   \n",
      "...        ...       ...        ...       ...        ...        ...       ...   \n",
      "1757  0.695743  0.119535   0.012365  0.008093   0.007523   0.008998  0.462963   \n",
      "1758  0.485773  0.356373   0.052087  0.045251   0.039367   0.052449  0.370370   \n",
      "1759  0.521515  0.334432   0.032468  0.008551   0.007783   0.009690  0.462963   \n",
      "1760  0.246739  0.029551   0.005577  0.009677   0.009145   0.010536  0.407407   \n",
      "1761  0.704285  0.195902   0.005151  0.003730   0.003502   0.004230  0.425926   \n",
      "\n",
      "        he_0_2    he_3_6   he_7_12  ...  Lappi  Pirkanmaa  Pohjanmaa  \\\n",
      "0     0.012547  0.013112  0.013221  ...      1          0          0   \n",
      "1     0.000000  0.000000  0.001202  ...      0          0          0   \n",
      "2     0.035132  0.062937  0.065505  ...      0          0          0   \n",
      "3     0.017566  0.012238  0.022236  ...      1          0          0   \n",
      "4     0.181932  0.266608  0.374399  ...      0          0          0   \n",
      "...        ...       ...       ...  ...    ...        ...        ...   \n",
      "1757  0.007528  0.006119  0.008413  ...      0          0          0   \n",
      "1758  0.062735  0.062063  0.054087  ...      0          0          0   \n",
      "1759  0.002509  0.004371  0.009615  ...      0          0          0   \n",
      "1760  0.005019  0.009615  0.005409  ...      0          0          0   \n",
      "1761  0.003764  0.003497  0.006010  ...      0          0          0   \n",
      "\n",
      "      Pohjois-Karjala  Pohjois-Pohjanmaa  Pohjois-Savo  Päijät-Häme  \\\n",
      "0                   0                  0             0            0   \n",
      "1                   1                  0             0            0   \n",
      "2                   0                  0             1            0   \n",
      "3                   0                  0             0            0   \n",
      "4                   0                  0             0            0   \n",
      "...               ...                ...           ...          ...   \n",
      "1757                0                  0             0            0   \n",
      "1758                0                  0             0            0   \n",
      "1759                0                  0             0            0   \n",
      "1760                0                  0             0            0   \n",
      "1761                0                  0             0            0   \n",
      "\n",
      "      Satakunta  Uusimaa  Varsinais-Suomi  \n",
      "0             0        0                0  \n",
      "1             0        0                0  \n",
      "2             0        0                0  \n",
      "3             0        0                0  \n",
      "4             0        1                0  \n",
      "...         ...      ...              ...  \n",
      "1757          0        0                0  \n",
      "1758          0        0                0  \n",
      "1759          0        0                0  \n",
      "1760          0        0                1  \n",
      "1761          0        0                0  \n",
      "\n",
      "[1762 rows x 119 columns]\n"
     ]
    }
   ],
   "source": [
    "# read train and test datasets\n",
    "x_train = pd.read_csv(train_dataset_name)\n",
    "x_test = pd.read_csv(test_dataset_name)\n",
    "y_train = pd.read_pickle(train_label_name)\n",
    "y_test = pd.read_pickle(test_label_name)\n",
    "\n",
    "print(x_train)"
   ]
  },
  {
   "cell_type": "markdown",
   "metadata": {},
   "source": [
    "# 2. Function definitions\n",
    "\n"
   ]
  },
  {
   "cell_type": "code",
   "execution_count": 44,
   "metadata": {},
   "outputs": [],
   "source": [
    "# calculating error metrics for regression predictions\n",
    "\n",
    "def calculate_error_metrics(test_labels,label_predictions, model_name):\n",
    "\n",
    "    #Asessing the performance of the model with root mean squared error, mean absolute error and coefficient of determination r2\n",
    "    rmse = sqrt(mean_squared_error(test_labels, label_predictions))\n",
    "    mae = mean_absolute_error(test_labels, label_predictions)\n",
    "    r2 = r2_score(test_labels, label_predictions)\n",
    "\n",
    "    # store them in a dictionary\n",
    "    metrics_dict = dict(zip(['model','RMSE','MAE','R2'],[model_name,rmse,mae,r2]))\n",
    "\n",
    "    return metrics_dict\n",
    "\n",
    "\n",
    "def print_and_store_error_metrics(test_labels, label_predictions, model_name, metrics_collection = None):\n",
    "\n",
    "    metrics_dict = calculate_error_metrics(test_labels, label_predictions, model_name)\n",
    "\n",
    "    # in case these are the first results we want to store in that dataframe, we need to first create it\n",
    "    if metrics_collection is None:\n",
    "        metrics_collection = pd.DataFrame(columns=['model','RMSE','MAE','R2'])\n",
    " \n",
    "    metrics_collection = metrics_collection.append(metrics_dict, ignore_index=True )\n",
    "\n",
    "    print(f\"\\nError metrics for {model_name} on the test dataset: \\n\" +\n",
    "          f\"\\t Root mean squared error (RMSE): {round(metrics_dict['RMSE'])} \\n\" +\n",
    "          f\"\\t Mean absolute error (MAE): {round(metrics_dict['MAE'])} \\n\" +\n",
    "          f\"\\t Coefficient of determination (R2): {round(metrics_dict['R2'],4)} \\n\")\n",
    "\n",
    "    return metrics_collection\n",
    "\n",
    "# to time the model training we create a function for model training\n",
    "def train_model(x_train, y_train, model):\n",
    "    start_time = time.time()  \n",
    "    print(model)\n",
    "    model.fit(x_train,y_train)\n",
    "    print('Model training took: ', round((time.time() - start_time), 2), ' seconds')\n",
    "    return model"
   ]
  },
  {
   "cell_type": "markdown",
   "metadata": {},
   "source": [
    "# 3. Baseline naive approach\n",
    "\n",
    "In order to determine, how well machine learning models perform on our dataset, we create some baseline results.\n",
    "One way to get baseline results is taking the median of y labels in the training dataset and use this as the prediction for all labels. Very naive, but not a realistic assumption.\n",
    "\n"
   ]
  },
  {
   "cell_type": "code",
   "execution_count": 45,
   "metadata": {},
   "outputs": [
    {
     "name": "stdout",
     "output_type": "stream",
     "text": [
      "21200.0\n",
      "\n",
      "Error metrics for Naive median prediction on the test dataset: \n",
      "\t Root mean squared error (RMSE): 3254 \n",
      "\t Mean absolute error (MAE): 2591 \n",
      "\t Coefficient of determination (R2): -0.0339 \n",
      "\n"
     ]
    },
    {
     "name": "stderr",
     "output_type": "stream",
     "text": [
      "/run/nvme/job_13916559/tmp/ipykernel_545275/4054692876.py:24: FutureWarning: The frame.append method is deprecated and will be removed from pandas in a future version. Use pandas.concat instead.\n",
      "  metrics_collection = metrics_collection.append(metrics_dict, ignore_index=True )\n"
     ]
    }
   ],
   "source": [
    "# the median training labels provides the predicted lable\n",
    "naive_prediction_value = y_train.median()\n",
    "naive_name = \"Naive median prediction\"\n",
    "print(naive_prediction_value)\n",
    "# the naive prediction value still needs to be repeated to fit with the features\n",
    "naive_predictions = pd.DataFrame([naive_prediction_value]* y_test.shape[0])\n",
    "# then we can get some accuracy measures\n",
    "metrics_collection = print_and_store_error_metrics(y_test,naive_predictions, naive_name)"
   ]
  },
  {
   "cell_type": "markdown",
   "metadata": {},
   "source": [
    "### 4. Baseline Linear regression \n",
    "\n",
    "Another baseline approach for regression is linear regression. Compared to any of the following models it is still easy to compute."
   ]
  },
  {
   "cell_type": "code",
   "execution_count": 46,
   "metadata": {},
   "outputs": [
    {
     "name": "stdout",
     "output_type": "stream",
     "text": [
      "                 Coefficient value\n",
      "euref_x                -501.452407\n",
      "euref_y               -1819.252663\n",
      "pinta_ala              -241.241276\n",
      "he_vakiy               1424.904914\n",
      "he_naiset              2708.192161\n",
      "...                            ...\n",
      "Pohjois-Savo             20.410027\n",
      "Päijät-Häme            -118.848740\n",
      "Satakunta              -379.612541\n",
      "Uusimaa                  64.089219\n",
      "Varsinais-Suomi        -313.383641\n",
      "\n",
      "[119 rows x 1 columns]\n",
      "\n",
      "Error metrics for Linear Regression on the test dataset: \n",
      "\t Root mean squared error (RMSE): 1244 \n",
      "\t Mean absolute error (MAE): 835 \n",
      "\t Coefficient of determination (R2): 0.8489 \n",
      "\n"
     ]
    },
    {
     "name": "stderr",
     "output_type": "stream",
     "text": [
      "/run/nvme/job_13916559/tmp/ipykernel_545275/4054692876.py:24: FutureWarning: The frame.append method is deprecated and will be removed from pandas in a future version. Use pandas.concat instead.\n",
      "  metrics_collection = metrics_collection.append(metrics_dict, ignore_index=True )\n"
     ]
    }
   ],
   "source": [
    "\n",
    "linear = LinearRegression()\n",
    "linear_name = \"Linear Regression\"\n",
    "linear.fit(x_train, y_train)\n",
    "linear_predictions = linear.predict(x_test)\n",
    "\n",
    "# get feature importance via their coefficients\n",
    "feature_names = x_train.columns\n",
    "model_coefficients = linear.coef_\n",
    "\n",
    "coefficients_df = pd.DataFrame(data = model_coefficients, index = feature_names, columns = ['Coefficient value'])\n",
    "print(coefficients_df)\n",
    "# largest absolute values show the most important features\n",
    "\n",
    "metrics_collection = print_and_store_error_metrics(y_test,linear_predictions, linear_name, metrics_collection)\n",
    "\n"
   ]
  },
  {
   "cell_type": "markdown",
   "metadata": {},
   "source": [
    "## 5. Gradient Boosting Regressor"
   ]
  },
  {
   "cell_type": "markdown",
   "metadata": {},
   "source": [
    "\n",
    "* https://scikit-learn.org/stable/modules/generated/sklearn.ensemble.GradientBoostingRegressor.html\n",
    "* https://scikit-learn.org/stable/modules/ensemble.html#regression"
   ]
  },
  {
   "cell_type": "code",
   "execution_count": 47,
   "metadata": {},
   "outputs": [
    {
     "name": "stdout",
     "output_type": "stream",
     "text": [
      "GradientBoostingRegressor(n_estimators=30, verbose=1)\n",
      "      Iter       Train Loss   Remaining Time \n",
      "         1     9755241.2072            0.79s\n",
      "         2     8482946.6580            0.72s\n",
      "         3     7438811.9523            0.68s\n",
      "         4     6537466.0364            0.65s\n",
      "         5     5788622.3219            0.62s\n",
      "         6     5171330.3776            0.59s\n",
      "         7     4614422.5874            0.57s\n",
      "         8     4153911.8039            0.54s\n",
      "         9     3763448.9246            0.52s\n",
      "        10     3430378.2746            0.50s\n",
      "        20     1809753.5164            0.24s\n",
      "        30     1312947.0438            0.00s\n",
      "Model training took:  0.73  seconds\n",
      "\n",
      "Error metrics for Gradient Boosting Regressor on the test dataset: \n",
      "\t Root mean squared error (RMSE): 1370 \n",
      "\t Mean absolute error (MAE): 963 \n",
      "\t Coefficient of determination (R2): 0.8168 \n",
      "\n"
     ]
    },
    {
     "name": "stderr",
     "output_type": "stream",
     "text": [
      "/run/nvme/job_13916559/tmp/ipykernel_545275/4054692876.py:24: FutureWarning: The frame.append method is deprecated and will be removed from pandas in a future version. Use pandas.concat instead.\n",
      "  metrics_collection = metrics_collection.append(metrics_dict, ignore_index=True )\n"
     ]
    }
   ],
   "source": [
    "grad_boost = GradientBoostingRegressor(n_estimators=30, learning_rate=0.1,verbose=1)\n",
    "grad_boost_name = \"Gradient Boosting Regressor\"\n",
    "grad_boost = train_model(x_train, y_train,grad_boost)\n",
    "grad_boost_predictions = grad_boost.predict(x_test)\n",
    "metrics_collection = print_and_store_error_metrics(y_test,grad_boost_predictions, grad_boost_name, metrics_collection)\n"
   ]
  },
  {
   "cell_type": "markdown",
   "metadata": {},
   "source": [
    "## 6. Random Forest Regressor\n",
    "\n",
    "* https://scikit-learn.org/stable/modules/generated/sklearn.ensemble.RandomForestRegressor.html\n",
    "* https://scikit-learn.org/stable/modules/ensemble.html#forest\n",
    "\n",
    "Cannot extrapolate beyond training dataset; mostly used for classification"
   ]
  },
  {
   "cell_type": "code",
   "execution_count": 48,
   "metadata": {},
   "outputs": [
    {
     "name": "stdout",
     "output_type": "stream",
     "text": [
      "RandomForestRegressor(n_estimators=30, verbose=1)\n"
     ]
    },
    {
     "name": "stderr",
     "output_type": "stream",
     "text": [
      "[Parallel(n_jobs=1)]: Using backend SequentialBackend with 1 concurrent workers.\n"
     ]
    },
    {
     "name": "stdout",
     "output_type": "stream",
     "text": [
      "Model training took:  1.67  seconds\n",
      "\n",
      "Error metrics for Random Forest Regressor on the test dataset: \n",
      "\t Root mean squared error (RMSE): 1254 \n",
      "\t Mean absolute error (MAE): 888 \n",
      "\t Coefficient of determination (R2): 0.8464 \n",
      "\n"
     ]
    },
    {
     "name": "stderr",
     "output_type": "stream",
     "text": [
      "[Parallel(n_jobs=1)]: Done  30 out of  30 | elapsed:    1.7s finished\n",
      "[Parallel(n_jobs=1)]: Using backend SequentialBackend with 1 concurrent workers.\n",
      "[Parallel(n_jobs=1)]: Done  30 out of  30 | elapsed:    0.0s finished\n",
      "/run/nvme/job_13916559/tmp/ipykernel_545275/4054692876.py:24: FutureWarning: The frame.append method is deprecated and will be removed from pandas in a future version. Use pandas.concat instead.\n",
      "  metrics_collection = metrics_collection.append(metrics_dict, ignore_index=True )\n"
     ]
    }
   ],
   "source": [
    "random_forest = RandomForestRegressor(n_estimators=30,verbose=1)\n",
    "random_forest_name = \"Random Forest Regressor\"\n",
    "\n",
    "random_forest = train_model(x_train, y_train,random_forest)\n",
    "random_forest_predictions = random_forest.predict(x_test)\n",
    "metrics_collection = print_and_store_error_metrics(y_test,random_forest_predictions, random_forest_name, metrics_collection)"
   ]
  },
  {
   "cell_type": "code",
   "execution_count": 50,
   "metadata": {},
   "outputs": [
    {
     "data": {
      "text/html": [
       "<div>\n",
       "<style scoped>\n",
       "    .dataframe tbody tr th:only-of-type {\n",
       "        vertical-align: middle;\n",
       "    }\n",
       "\n",
       "    .dataframe tbody tr th {\n",
       "        vertical-align: top;\n",
       "    }\n",
       "\n",
       "    .dataframe thead th {\n",
       "        text-align: right;\n",
       "    }\n",
       "</style>\n",
       "<table border=\"1\" class=\"dataframe\">\n",
       "  <thead>\n",
       "    <tr style=\"text-align: right;\">\n",
       "      <th></th>\n",
       "      <th>importance</th>\n",
       "    </tr>\n",
       "  </thead>\n",
       "  <tbody>\n",
       "    <tr>\n",
       "      <th>52</th>\n",
       "      <td>0.582547</td>\n",
       "    </tr>\n",
       "    <tr>\n",
       "      <th>6</th>\n",
       "      <td>0.097827</td>\n",
       "    </tr>\n",
       "    <tr>\n",
       "      <th>53</th>\n",
       "      <td>0.083306</td>\n",
       "    </tr>\n",
       "    <tr>\n",
       "      <th>56</th>\n",
       "      <td>0.026287</td>\n",
       "    </tr>\n",
       "    <tr>\n",
       "      <th>33</th>\n",
       "      <td>0.022756</td>\n",
       "    </tr>\n",
       "  </tbody>\n",
       "</table>\n",
       "</div>"
      ],
      "text/plain": [
       "    importance\n",
       "52    0.582547\n",
       "6     0.097827\n",
       "53    0.083306\n",
       "56    0.026287\n",
       "33    0.022756"
      ]
     },
     "execution_count": 50,
     "metadata": {},
     "output_type": "execute_result"
    }
   ],
   "source": [
    "\n",
    "#let's take a look at feature importances\n",
    "feature_importances = pd.DataFrame(random_forest.feature_importances_,  columns=['importance']).sort_values('importance', ascending=False)\n",
    "feature_importances.head()"
   ]
  },
  {
   "cell_type": "markdown",
   "metadata": {},
   "source": [
    "## 7. Extra Trees Regressor\n",
    "\n",
    "* https://scikit-learn.org/stable/modules/generated/sklearn.ensemble.ExtraTreesRegressor.html"
   ]
  },
  {
   "cell_type": "code",
   "execution_count": null,
   "metadata": {},
   "outputs": [],
   "source": [
    "extra_trees = ExtraTreesRegressor(n_estimators=30,verbose=1)\n",
    "extra_trees_name = \"Extra Trees Regressor\"\n",
    "\n",
    "extra_trees = train_model(x_train, y_train,extra_trees)\n",
    "extra_trees_predictions = extra_trees.predict(x_test)\n",
    "metrics_collection = print_and_store_error_metrics(y_test,extra_trees_predictions, extra_trees_name, metrics_collection)"
   ]
  },
  {
   "cell_type": "markdown",
   "metadata": {},
   "source": [
    "## 8. Bagging Regressor\n",
    "\n",
    "* https://scikit-learn.org/stable/modules/generated/sklearn.ensemble.BaggingRegressor.html\n",
    "* https://scikit-learn.org/stable/modules/ensemble.html#bagging"
   ]
  },
  {
   "cell_type": "code",
   "execution_count": null,
   "metadata": {},
   "outputs": [],
   "source": [
    "bagging = BaggingRegressor(n_estimators=30,verbose=1)\n",
    "bagging_name = \"Bagging Regressor\"\n",
    "\n",
    "baggings = train_model(x_train, y_train,bagging)\n",
    "bagging_predictions = bagging.predict(x_test)\n",
    "metrics_collection = print_and_store_error_metrics(y_test,bagging_predictions, bagging_name, metrics_collection)"
   ]
  },
  {
   "cell_type": "markdown",
   "metadata": {},
   "source": [
    "## 8. AdaBoost Regressor\n",
    "\n",
    "* https://scikit-learn.org/stable/modules/generated/sklearn.ensemble.AdaBoostRegressor.html\n",
    "* https://scikit-learn.org/stable/modules/ensemble.html#adaboost"
   ]
  },
  {
   "cell_type": "code",
   "execution_count": null,
   "metadata": {},
   "outputs": [],
   "source": [
    "ada_boost = AdaBoostRegressor(n_estimators=30)\n",
    "ada_boost_name = \"AdaBoost Regressor\"\n",
    "\n",
    "ada_boost = train_model(x_train, y_train,ada_boost)\n",
    "ada_boost_predictions = ada_boost.predict(x_test)\n",
    "metrics_collection = print_and_store_error_metrics(y_test,ada_boost_predictions, ada_boost_name, metrics_collection)"
   ]
  },
  {
   "cell_type": "markdown",
   "metadata": {},
   "source": [
    "## 9. Model comparison"
   ]
  },
  {
   "cell_type": "code",
   "execution_count": null,
   "metadata": {},
   "outputs": [],
   "source": [
    "print(metrics_collection.sort_values(by=['RMSE'], ascending=False))\n",
    "\n",
    "# store comparison table \n",
    "metrics_collection.to_csv(metrics_filename)"
   ]
  },
  {
   "cell_type": "markdown",
   "metadata": {},
   "source": [
    "## 10. Task\n",
    "\n",
    "Study the scikit-learn documentation of one of the above used models and experiment with different hyperparameter values. Can you improve on the accuracy or make the training faster?\n",
    "Report the best results and mark down parameters used, so that others can reproduce the results."
   ]
  },
  {
   "cell_type": "code",
   "execution_count": null,
   "metadata": {},
   "outputs": [],
   "source": []
  }
 ],
 "metadata": {
  "kernelspec": {
   "display_name": "Python 3 (ipykernel)",
   "language": "python",
   "name": "python3"
  },
  "language_info": {
   "codemirror_mode": {
    "name": "ipython",
    "version": 3
   },
   "file_extension": ".py",
   "mimetype": "text/x-python",
   "name": "python",
   "nbconvert_exporter": "python",
   "pygments_lexer": "ipython3",
   "version": "3.9.7"
  },
  "vscode": {
   "interpreter": {
    "hash": "916dbcbb3f70747c44a77c7bcd40155683ae19c65e1c03b4aa3499c5328201f1"
   }
  }
 },
 "nbformat": 4,
 "nbformat_minor": 4
}
