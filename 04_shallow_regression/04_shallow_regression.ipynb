{
 "cells": [
  {
   "cell_type": "markdown",
   "metadata": {},
   "source": [
    "<div class=\"alert alert-block alert-info\">\n",
    "\n",
    "**TODO:**\n",
    "* check all texts\n",
    "* fix comments\n",
    "* testing here with validation; final tests with test set\n",
    "* try scaled/unscaled data for trees\n",
    "* have it without outputs on Github\n",
    "* remove all but one decision tree and one non-decision tree models and make it task to find others and adjust their hyperparameters; provide \"solution\" script with % load solutions.py (note that this cell has to be run twice then)\n",
    "* Add info on used data and goal of exercise\n",
    "* make sure to make it possible to go through in 30 min\n",
    "    \n",
    "</div>"
   ]
  },
  {
   "cell_type": "markdown",
   "metadata": {},
   "source": [
    "# Shallow regression for vector data\n",
    "\n",
    "Reminder: We are within supervised learning (we have labels/targets that are real values) -> Regression\n",
    "\n",
    "\n",
    "In this notebook we read the zip code data produced by **02_vector_preparations** and create different machine learning models for\n",
    "predicting the average zip code income from population and spatial features.\n",
    "\n",
    "We will assesses the models error metrics with a test dataset but also predict the number to all zip codes and write the result to a geopackage for closer inspection.\n",
    "\n",
    "Notebook contents:\n",
    "0. Environment preparation\n",
    "1. Reading the data\n",
    "2. Function defintion\n",
    "3. Baseline naive approach\n",
    "4. Baseline linear regression\n",
    "5. Gradient Boosting\n",
    "6. Random Forest\n",
    "7. Bagging\n",
    "8. AdaBoost\n",
    "9. Comparing the models\n",
    "10. Task \n"
   ]
  },
  {
   "cell_type": "markdown",
   "metadata": {},
   "source": [
    "## 0. Environment preparation"
   ]
  },
  {
   "cell_type": "code",
   "execution_count": 2,
   "metadata": {},
   "outputs": [],
   "source": [
    "import time\n",
    "import geopandas as gpd\n",
    "import pandas as pd\n",
    "from math import sqrt\n",
    "import os\n",
    "import matplotlib.pyplot as plt\n",
    "from sklearn.linear_model import LinearRegression\n",
    "\n",
    "from sklearn.ensemble import GradientBoostingRegressor, RandomForestRegressor, BaggingRegressor,ExtraTreesRegressor, AdaBoostRegressor\n",
    "\n",
    "from sklearn.metrics import mean_squared_error, mean_absolute_error,r2_score\n",
    "\n",
    "import seaborn as sns "
   ]
  },
  {
   "cell_type": "markdown",
   "metadata": {},
   "source": [
    "## 1. Reading the data\n",
    "### 1.1 Define input and output file paths "
   ]
  },
  {
   "cell_type": "code",
   "execution_count": 3,
   "metadata": {},
   "outputs": [],
   "source": [
    "username = os.environ.get('USER')\n",
    "base_directory= f'/scratch/project_2002044/{username}/2022/GeoML'\n",
    "\n",
    "data_directory = os.path.join(base_directory,'data')\n",
    "\n",
    "preprocessed_data_directory = os.path.join(data_directory,'preprocessed_regression')\n",
    "scaled_train_dataset_name = os.path.join(preprocessed_data_directory,'scaled_train_zip_code_data.csv')\n",
    "scaled_test_dataset_name = os.path.join(preprocessed_data_directory,'scaled_test_zip_code_data.csv')\n",
    "scaled_val_dataset_name = os.path.join(preprocessed_data_directory,'scaled_val_zip_code_data.csv')\n",
    "train_label_name = os.path.join(preprocessed_data_directory,'train_income_labels.pkl')\n",
    "test_label_name = os.path.join(preprocessed_data_directory,'test_income_labels.pkl')\n",
    "val_label_name = os.path.join(preprocessed_data_directory,'val_income_labels.pkl')\n",
    "\n",
    "results_directory = os.path.join(data_directory,'regression_results')\n",
    "\n",
    "def create_dir(directory_name):\n",
    "    if not os.path.exists(directory_name):\n",
    "        os.makedirs(directory_name)\n",
    "create_dir(results_directory)\n",
    "\n",
    "metrics_filename = os.path.join(results_directory,'shallow_metrics.csv')\n",
    "\n",
    "#train_dataset_name = os.path.join(preprocessed_data_directory,'train_zip_code_data.csv')\n",
    "#test_dataset_name = os.path.join(preprocessed_data_directory,'test_zip_code_data.csv')\n",
    "#val_dataset_name = os.path.join(preprocessed_data_directory,'val_zip_code_data.csv')"
   ]
  },
  {
   "cell_type": "markdown",
   "metadata": {},
   "source": [
    "### 1.2 Reading the data"
   ]
  },
  {
   "cell_type": "code",
   "execution_count": 4,
   "metadata": {},
   "outputs": [],
   "source": [
    "# read train and validation datasets\n",
    "x_train = pd.read_csv(scaled_train_dataset_name)\n",
    "x_val = pd.read_csv(scaled_val_dataset_name)\n",
    "y_train = pd.read_pickle(train_label_name)\n",
    "y_val = pd.read_pickle(val_label_name)\n"
   ]
  },
  {
   "cell_type": "markdown",
   "metadata": {},
   "source": [
    "# 2. Function definitions\n",
    "\n"
   ]
  },
  {
   "cell_type": "code",
   "execution_count": 4,
   "metadata": {},
   "outputs": [],
   "source": [
    "# calculating error metrics for regression predictions\n",
    "\n",
    "def calculate_error_metrics(test_labels,label_predictions, model_name):\n",
    "\n",
    "    #Asessing the performance of the model with root mean squared error, mean absolute error and coefficient of determination r2\n",
    "    rmse = sqrt(mean_squared_error(test_labels, label_predictions))\n",
    "    mae = mean_absolute_error(test_labels, label_predictions)\n",
    "    r2 = r2_score(test_labels, label_predictions)\n",
    "\n",
    "    # store them in a dictionary\n",
    "    metrics_dict = dict(zip(['model','RMSE','MAE','R2'],[model_name,rmse,mae,r2]))\n",
    "\n",
    "    return metrics_dict\n",
    "\n",
    "\n",
    "def print_and_store_error_metrics(test_labels, label_predictions, model_name, metrics_collection = None):\n",
    "\n",
    "    metrics_dict = calculate_error_metrics(test_labels, label_predictions, model_name)\n",
    "\n",
    "    # in case these are the first results we want to store in that dataframe, we need to first create it\n",
    "    if metrics_collection is None:\n",
    "        metrics_collection = pd.DataFrame(columns=['model','RMSE','MAE','R2'])\n",
    " \n",
    "    metrics_collection = metrics_collection.append(metrics_dict, ignore_index=True )\n",
    "\n",
    "    print(f\"\\nError metrics for {model_name} on the test dataset: \\n\" +\n",
    "          f\"\\t Root mean squared error (RMSE): {round(metrics_dict['RMSE'])} \\n\" +\n",
    "          f\"\\t Mean absolute error (MAE): {round(metrics_dict['MAE'])} \\n\" +\n",
    "          f\"\\t Coefficient of determination (R2): {round(metrics_dict['R2'],4)} \\n\")\n",
    "\n",
    "    return metrics_collection\n",
    "\n",
    "# to time the model training we create a function for model training\n",
    "def train_model(x_train, y_train, model):\n",
    "    start_time = time.time()  \n",
    "    print(model)\n",
    "    model.fit(x_train,y_train)\n",
    "    print('Model training took: ', round((time.time() - start_time), 2), ' seconds')\n",
    "    return model"
   ]
  },
  {
   "cell_type": "markdown",
   "metadata": {},
   "source": [
    "# 3. Baseline naive approach\n",
    "\n",
    "In order to determine, how well machine learning models perform on our dataset, we create some baseline results.\n",
    "One way to get baseline results is taking the median of y labels in the training dataset and use this as the prediction for all labels. Very naive, but not a realistic assumption.\n",
    "\n"
   ]
  },
  {
   "cell_type": "code",
   "execution_count": 5,
   "metadata": {},
   "outputs": [
    {
     "name": "stdout",
     "output_type": "stream",
     "text": [
      "21200.0\n",
      "\n",
      "Error metrics for Naive median prediction on the test dataset: \n",
      "\t Root mean squared error (RMSE): 3210 \n",
      "\t Mean absolute error (MAE): 2521 \n",
      "\t Coefficient of determination (R2): -0.0058 \n",
      "\n"
     ]
    },
    {
     "name": "stderr",
     "output_type": "stream",
     "text": [
      "/run/nvme/job_13946499/tmp/ipykernel_1078913/4054692876.py:24: FutureWarning: The frame.append method is deprecated and will be removed from pandas in a future version. Use pandas.concat instead.\n",
      "  metrics_collection = metrics_collection.append(metrics_dict, ignore_index=True )\n"
     ]
    }
   ],
   "source": [
    "# the median training labels provides the predicted lable\n",
    "naive_prediction_value = y_train.median()\n",
    "naive_name = \"Naive median prediction\"\n",
    "print(naive_prediction_value)\n",
    "# the naive prediction value still needs to be repeated to fit with the features\n",
    "naive_predictions = pd.DataFrame([naive_prediction_value]* y_val.shape[0])\n",
    "# then we can get some accuracy measures\n",
    "metrics_collection = print_and_store_error_metrics(y_val,naive_predictions, naive_name)"
   ]
  },
  {
   "cell_type": "markdown",
   "metadata": {},
   "source": [
    "### 4. Baseline Linear regression \n",
    "\n",
    "Another baseline approach for regression is linear regression. Compared to any of the following models it is still easy to compute."
   ]
  },
  {
   "cell_type": "code",
   "execution_count": 6,
   "metadata": {},
   "outputs": [
    {
     "name": "stdout",
     "output_type": "stream",
     "text": [
      "                 Coefficient value\n",
      "euref_x                  -6.081669\n",
      "euref_y                -707.226825\n",
      "pinta_ala                 1.662934\n",
      "he_vakiy                 31.197307\n",
      "he_naiset               909.073870\n",
      "...                            ...\n",
      "Pohjois-Savo            -18.166157\n",
      "Päijät-Häme            -174.413313\n",
      "Satakunta              -866.225375\n",
      "Uusimaa                1574.797429\n",
      "Varsinais-Suomi        -231.631031\n",
      "\n",
      "[117 rows x 1 columns]\n",
      "\n",
      "Error metrics for Linear Regression on the test dataset: \n",
      "\t Root mean squared error (RMSE): 1600 \n",
      "\t Mean absolute error (MAE): 1179 \n",
      "\t Coefficient of determination (R2): 0.7501 \n",
      "\n"
     ]
    },
    {
     "name": "stderr",
     "output_type": "stream",
     "text": [
      "/run/nvme/job_13946499/tmp/ipykernel_1078913/4054692876.py:24: FutureWarning: The frame.append method is deprecated and will be removed from pandas in a future version. Use pandas.concat instead.\n",
      "  metrics_collection = metrics_collection.append(metrics_dict, ignore_index=True )\n"
     ]
    }
   ],
   "source": [
    "\n",
    "linear = LinearRegression()\n",
    "linear_name = \"Linear Regression\"\n",
    "linear.fit(x_train, y_train)\n",
    "linear_predictions = linear.predict(x_val)\n",
    "\n",
    "# get feature importance via their coefficients\n",
    "feature_names = x_train.columns\n",
    "model_coefficients = linear.coef_\n",
    "\n",
    "coefficients_df = pd.DataFrame(data = model_coefficients, index = feature_names, columns = ['Coefficient value'])\n",
    "print(coefficients_df)\n",
    "# largest absolute values show the most important features\n",
    "\n",
    "metrics_collection = print_and_store_error_metrics(y_val,linear_predictions, linear_name, metrics_collection)\n",
    "\n"
   ]
  },
  {
   "cell_type": "markdown",
   "metadata": {},
   "source": [
    "## 5. Gradient Boosting Regressor"
   ]
  },
  {
   "cell_type": "markdown",
   "metadata": {},
   "source": [
    "\n",
    "* https://scikit-learn.org/stable/modules/generated/sklearn.ensemble.GradientBoostingRegressor.html\n",
    "* https://scikit-learn.org/stable/modules/ensemble.html#regression"
   ]
  },
  {
   "cell_type": "code",
   "execution_count": 7,
   "metadata": {},
   "outputs": [
    {
     "name": "stdout",
     "output_type": "stream",
     "text": [
      "GradientBoostingRegressor(n_estimators=30, verbose=1)\n",
      "      Iter       Train Loss   Remaining Time \n",
      "         1    10017583.6313            0.76s\n",
      "         2     8949232.4562            0.73s\n",
      "         3     8078455.1699            0.70s\n",
      "         4     7347146.6008            0.68s\n",
      "         5     6701948.9174            0.65s\n",
      "         6     6155046.2365            0.63s\n",
      "         7     5686597.4554            0.61s\n",
      "         8     5307098.3956            0.59s\n",
      "         9     4959041.0561            0.56s\n",
      "        10     4642294.8507            0.53s\n",
      "        20     2810980.1416            0.26s\n",
      "        30     2055765.2068            0.00s\n",
      "Model training took:  0.77  seconds\n",
      "\n",
      "Error metrics for Gradient Boosting Regressor on the test dataset: \n",
      "\t Root mean squared error (RMSE): 1522 \n",
      "\t Mean absolute error (MAE): 1153 \n",
      "\t Coefficient of determination (R2): 0.7738 \n",
      "\n"
     ]
    },
    {
     "name": "stderr",
     "output_type": "stream",
     "text": [
      "/run/nvme/job_13946499/tmp/ipykernel_1078913/4054692876.py:24: FutureWarning: The frame.append method is deprecated and will be removed from pandas in a future version. Use pandas.concat instead.\n",
      "  metrics_collection = metrics_collection.append(metrics_dict, ignore_index=True )\n"
     ]
    }
   ],
   "source": [
    "grad_boost = GradientBoostingRegressor(n_estimators=30, learning_rate=0.1,verbose=1)\n",
    "grad_boost_name = \"Gradient Boosting Regressor\"\n",
    "grad_boost = train_model(x_train, y_train,grad_boost)\n",
    "grad_boost_predictions = grad_boost.predict(x_val)\n",
    "metrics_collection = print_and_store_error_metrics(y_val,grad_boost_predictions, grad_boost_name, metrics_collection)\n"
   ]
  },
  {
   "cell_type": "markdown",
   "metadata": {},
   "source": [
    "## 6. Random Forest Regressor\n",
    "\n",
    "* https://scikit-learn.org/stable/modules/generated/sklearn.ensemble.RandomForestRegressor.html\n",
    "* https://scikit-learn.org/stable/modules/ensemble.html#forest\n",
    "\n",
    "Cannot extrapolate beyond training dataset; mostly used for classification"
   ]
  },
  {
   "cell_type": "code",
   "execution_count": 8,
   "metadata": {},
   "outputs": [
    {
     "name": "stdout",
     "output_type": "stream",
     "text": [
      "RandomForestRegressor(n_estimators=30, verbose=1)\n"
     ]
    },
    {
     "name": "stderr",
     "output_type": "stream",
     "text": [
      "[Parallel(n_jobs=1)]: Using backend SequentialBackend with 1 concurrent workers.\n"
     ]
    },
    {
     "name": "stdout",
     "output_type": "stream",
     "text": [
      "Model training took:  1.79  seconds\n",
      "\n",
      "Error metrics for Random Forest Regressor on the test dataset: \n",
      "\t Root mean squared error (RMSE): 1449 \n",
      "\t Mean absolute error (MAE): 1082 \n",
      "\t Coefficient of determination (R2): 0.795 \n",
      "\n"
     ]
    },
    {
     "name": "stderr",
     "output_type": "stream",
     "text": [
      "[Parallel(n_jobs=1)]: Done  30 out of  30 | elapsed:    1.8s finished\n",
      "[Parallel(n_jobs=1)]: Using backend SequentialBackend with 1 concurrent workers.\n",
      "[Parallel(n_jobs=1)]: Done  30 out of  30 | elapsed:    0.0s finished\n",
      "/run/nvme/job_13946499/tmp/ipykernel_1078913/4054692876.py:24: FutureWarning: The frame.append method is deprecated and will be removed from pandas in a future version. Use pandas.concat instead.\n",
      "  metrics_collection = metrics_collection.append(metrics_dict, ignore_index=True )\n"
     ]
    }
   ],
   "source": [
    "random_forest = RandomForestRegressor(n_estimators=30,verbose=1)\n",
    "random_forest_name = \"Random Forest Regressor\"\n",
    "\n",
    "random_forest = train_model(x_train, y_train,random_forest)\n",
    "random_forest_predictions = random_forest.predict(x_val)\n",
    "metrics_collection = print_and_store_error_metrics(y_val,random_forest_predictions, random_forest_name, metrics_collection)"
   ]
  },
  {
   "cell_type": "code",
   "execution_count": 9,
   "metadata": {},
   "outputs": [
    {
     "data": {
      "text/html": [
       "<div>\n",
       "<style scoped>\n",
       "    .dataframe tbody tr th:only-of-type {\n",
       "        vertical-align: middle;\n",
       "    }\n",
       "\n",
       "    .dataframe tbody tr th {\n",
       "        vertical-align: top;\n",
       "    }\n",
       "\n",
       "    .dataframe thead th {\n",
       "        text-align: right;\n",
       "    }\n",
       "</style>\n",
       "<table border=\"1\" class=\"dataframe\">\n",
       "  <thead>\n",
       "    <tr style=\"text-align: right;\">\n",
       "      <th></th>\n",
       "      <th>name</th>\n",
       "      <th>importance</th>\n",
       "    </tr>\n",
       "  </thead>\n",
       "  <tbody>\n",
       "    <tr>\n",
       "      <th>6</th>\n",
       "      <td>he_kika</td>\n",
       "      <td>0.468741</td>\n",
       "    </tr>\n",
       "    <tr>\n",
       "      <th>1</th>\n",
       "      <td>euref_y</td>\n",
       "      <td>0.125612</td>\n",
       "    </tr>\n",
       "    <tr>\n",
       "      <th>35</th>\n",
       "      <td>te_takk</td>\n",
       "      <td>0.064266</td>\n",
       "    </tr>\n",
       "    <tr>\n",
       "      <th>54</th>\n",
       "      <td>tr_hy_tul</td>\n",
       "      <td>0.033022</td>\n",
       "    </tr>\n",
       "    <tr>\n",
       "      <th>61</th>\n",
       "      <td>ra_as_kpa</td>\n",
       "      <td>0.031266</td>\n",
       "    </tr>\n",
       "    <tr>\n",
       "      <th>...</th>\n",
       "      <td>...</td>\n",
       "      <td>...</td>\n",
       "    </tr>\n",
       "    <tr>\n",
       "      <th>90</th>\n",
       "      <td>tp_x_tunt</td>\n",
       "      <td>0.000062</td>\n",
       "    </tr>\n",
       "    <tr>\n",
       "      <th>88</th>\n",
       "      <td>tp_t_koti</td>\n",
       "      <td>0.000062</td>\n",
       "    </tr>\n",
       "    <tr>\n",
       "      <th>113</th>\n",
       "      <td>Päijät-Häme</td>\n",
       "      <td>0.000057</td>\n",
       "    </tr>\n",
       "    <tr>\n",
       "      <th>99</th>\n",
       "      <td>Etelä-Karjala</td>\n",
       "      <td>0.000036</td>\n",
       "    </tr>\n",
       "    <tr>\n",
       "      <th>106</th>\n",
       "      <td>Kymenlaakso</td>\n",
       "      <td>0.000025</td>\n",
       "    </tr>\n",
       "  </tbody>\n",
       "</table>\n",
       "<p>117 rows × 2 columns</p>\n",
       "</div>"
      ],
      "text/plain": [
       "              name  importance\n",
       "6          he_kika    0.468741\n",
       "1          euref_y    0.125612\n",
       "35         te_takk    0.064266\n",
       "54       tr_hy_tul    0.033022\n",
       "61       ra_as_kpa    0.031266\n",
       "..             ...         ...\n",
       "90       tp_x_tunt    0.000062\n",
       "88       tp_t_koti    0.000062\n",
       "113    Päijät-Häme    0.000057\n",
       "99   Etelä-Karjala    0.000036\n",
       "106    Kymenlaakso    0.000025\n",
       "\n",
       "[117 rows x 2 columns]"
      ]
     },
     "execution_count": 9,
     "metadata": {},
     "output_type": "execute_result"
    }
   ],
   "source": [
    "#let's take a look at feature importances\n",
    "# create dataframe of feature importance from random forest model\n",
    "adf = pd.DataFrame(zip(x_train.columns, random_forest.feature_importances_), columns= ['name','importance'])\n",
    "# sort the dataframe to have highest ranking features first\n",
    "adf.sort_values('importance', ascending=False)"
   ]
  },
  {
   "cell_type": "markdown",
   "metadata": {},
   "source": [
    "## 7. Extra Trees Regressor\n",
    "\n",
    "* https://scikit-learn.org/stable/modules/generated/sklearn.ensemble.ExtraTreesRegressor.html"
   ]
  },
  {
   "cell_type": "code",
   "execution_count": 10,
   "metadata": {},
   "outputs": [
    {
     "name": "stderr",
     "output_type": "stream",
     "text": [
      "[Parallel(n_jobs=1)]: Using backend SequentialBackend with 1 concurrent workers.\n"
     ]
    },
    {
     "name": "stdout",
     "output_type": "stream",
     "text": [
      "ExtraTreesRegressor(n_estimators=30, verbose=1)\n",
      "Model training took:  0.85  seconds\n",
      "\n",
      "Error metrics for Extra Trees Regressor on the test dataset: \n",
      "\t Root mean squared error (RMSE): 1282 \n",
      "\t Mean absolute error (MAE): 951 \n",
      "\t Coefficient of determination (R2): 0.8395 \n",
      "\n"
     ]
    },
    {
     "name": "stderr",
     "output_type": "stream",
     "text": [
      "[Parallel(n_jobs=1)]: Done  30 out of  30 | elapsed:    0.8s finished\n",
      "[Parallel(n_jobs=1)]: Using backend SequentialBackend with 1 concurrent workers.\n",
      "[Parallel(n_jobs=1)]: Done  30 out of  30 | elapsed:    0.0s finished\n",
      "/run/nvme/job_13946499/tmp/ipykernel_1078913/4054692876.py:24: FutureWarning: The frame.append method is deprecated and will be removed from pandas in a future version. Use pandas.concat instead.\n",
      "  metrics_collection = metrics_collection.append(metrics_dict, ignore_index=True )\n"
     ]
    }
   ],
   "source": [
    "extra_trees = ExtraTreesRegressor(n_estimators=30,verbose=1)\n",
    "extra_trees_name = \"Extra Trees Regressor\"\n",
    "\n",
    "extra_trees = train_model(x_train, y_train,extra_trees)\n",
    "extra_trees_predictions = extra_trees.predict(x_val)\n",
    "metrics_collection = print_and_store_error_metrics(y_val,extra_trees_predictions, extra_trees_name, metrics_collection)"
   ]
  },
  {
   "cell_type": "markdown",
   "metadata": {},
   "source": [
    "## 8. Bagging Regressor\n",
    "\n",
    "* https://scikit-learn.org/stable/modules/generated/sklearn.ensemble.BaggingRegressor.html\n",
    "* https://scikit-learn.org/stable/modules/ensemble.html#bagging"
   ]
  },
  {
   "cell_type": "code",
   "execution_count": 11,
   "metadata": {},
   "outputs": [
    {
     "name": "stderr",
     "output_type": "stream",
     "text": [
      "[Parallel(n_jobs=1)]: Using backend SequentialBackend with 1 concurrent workers.\n"
     ]
    },
    {
     "name": "stdout",
     "output_type": "stream",
     "text": [
      "BaggingRegressor(n_estimators=30, verbose=1)\n",
      "Model training took:  2.05  seconds\n",
      "\n",
      "Error metrics for Bagging Regressor on the test dataset: \n",
      "\t Root mean squared error (RMSE): 1413 \n",
      "\t Mean absolute error (MAE): 1061 \n",
      "\t Coefficient of determination (R2): 0.805 \n",
      "\n"
     ]
    },
    {
     "name": "stderr",
     "output_type": "stream",
     "text": [
      "[Parallel(n_jobs=1)]: Done   1 out of   1 | elapsed:    2.1s finished\n",
      "[Parallel(n_jobs=1)]: Using backend SequentialBackend with 1 concurrent workers.\n",
      "[Parallel(n_jobs=1)]: Done   1 out of   1 | elapsed:    0.0s finished\n",
      "/run/nvme/job_13946499/tmp/ipykernel_1078913/4054692876.py:24: FutureWarning: The frame.append method is deprecated and will be removed from pandas in a future version. Use pandas.concat instead.\n",
      "  metrics_collection = metrics_collection.append(metrics_dict, ignore_index=True )\n"
     ]
    }
   ],
   "source": [
    "bagging = BaggingRegressor(n_estimators=30,verbose=1)\n",
    "bagging_name = \"Bagging Regressor\"\n",
    "\n",
    "baggings = train_model(x_train, y_train,bagging)\n",
    "bagging_predictions = bagging.predict(x_val)\n",
    "metrics_collection = print_and_store_error_metrics(y_val,bagging_predictions, bagging_name, metrics_collection)"
   ]
  },
  {
   "cell_type": "markdown",
   "metadata": {},
   "source": [
    "## 8. AdaBoost Regressor\n",
    "\n",
    "* https://scikit-learn.org/stable/modules/generated/sklearn.ensemble.AdaBoostRegressor.html\n",
    "* https://scikit-learn.org/stable/modules/ensemble.html#adaboost"
   ]
  },
  {
   "cell_type": "code",
   "execution_count": 12,
   "metadata": {},
   "outputs": [
    {
     "name": "stdout",
     "output_type": "stream",
     "text": [
      "AdaBoostRegressor(n_estimators=30)\n",
      "Model training took:  0.63  seconds\n",
      "\n",
      "Error metrics for AdaBoost Regressor on the test dataset: \n",
      "\t Root mean squared error (RMSE): 1745 \n",
      "\t Mean absolute error (MAE): 1363 \n",
      "\t Coefficient of determination (R2): 0.7028 \n",
      "\n"
     ]
    },
    {
     "name": "stderr",
     "output_type": "stream",
     "text": [
      "/run/nvme/job_13946499/tmp/ipykernel_1078913/4054692876.py:24: FutureWarning: The frame.append method is deprecated and will be removed from pandas in a future version. Use pandas.concat instead.\n",
      "  metrics_collection = metrics_collection.append(metrics_dict, ignore_index=True )\n"
     ]
    }
   ],
   "source": [
    "ada_boost = AdaBoostRegressor(n_estimators=30)\n",
    "ada_boost_name = \"AdaBoost Regressor\"\n",
    "\n",
    "ada_boost = train_model(x_train, y_train,ada_boost)\n",
    "ada_boost_predictions = ada_boost.predict(x_val)\n",
    "metrics_collection = print_and_store_error_metrics(y_val,ada_boost_predictions, ada_boost_name, metrics_collection)"
   ]
  },
  {
   "cell_type": "markdown",
   "metadata": {},
   "source": [
    "## 9. Model comparison"
   ]
  },
  {
   "cell_type": "code",
   "execution_count": 13,
   "metadata": {},
   "outputs": [
    {
     "name": "stdout",
     "output_type": "stream",
     "text": [
      "                         model         RMSE          MAE        R2\n",
      "0      Naive median prediction  3210.315973  2521.001704 -0.005820\n",
      "6           AdaBoost Regressor  1745.176252  1363.223006  0.702763\n",
      "1            Linear Regression  1600.219500  1178.917810  0.750090\n",
      "2  Gradient Boosting Regressor  1522.333054  1152.671273  0.773825\n",
      "3      Random Forest Regressor  1449.204208  1081.964225  0.795033\n",
      "5            Bagging Regressor  1413.473238  1061.154174  0.805016\n",
      "4        Extra Trees Regressor  1282.324966   950.631289  0.839520\n"
     ]
    }
   ],
   "source": [
    "print(metrics_collection.sort_values(by=['RMSE'], ascending=False))\n",
    "\n",
    "# store comparison table \n",
    "metrics_collection.to_csv(metrics_filename)"
   ]
  },
  {
   "cell_type": "markdown",
   "metadata": {},
   "source": [
    "## 10. Task\n",
    "\n",
    "Study the scikit-learn documentation of one of the above used models and experiment with different hyperparameter values. Can you improve on the accuracy or make the training faster?\n",
    "Report the best results (on test set!) and mark down parameters used, so that others can reproduce the results. "
   ]
  },
  {
   "cell_type": "code",
   "execution_count": null,
   "metadata": {},
   "outputs": [],
   "source": []
  }
 ],
 "metadata": {
  "kernelspec": {
   "display_name": "Python 3 (ipykernel)",
   "language": "python",
   "name": "python3"
  },
  "language_info": {
   "codemirror_mode": {
    "name": "ipython",
    "version": 3
   },
   "file_extension": ".py",
   "mimetype": "text/x-python",
   "name": "python",
   "nbconvert_exporter": "python",
   "pygments_lexer": "ipython3",
   "version": "3.9.7"
  },
  "vscode": {
   "interpreter": {
    "hash": "916dbcbb3f70747c44a77c7bcd40155683ae19c65e1c03b4aa3499c5328201f1"
   }
  }
 },
 "nbformat": 4,
 "nbformat_minor": 4
}
