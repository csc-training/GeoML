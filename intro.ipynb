{
 "cells": [
  {
   "cell_type": "markdown",
   "id": "04a68a13-d9e6-43bf-b016-84434c885a9d",
   "metadata": {},
   "source": [
    "# Welcome to the course environment!"
   ]
  },
  {
   "cell_type": "markdown",
   "id": "2a3a6bb4-2e06-4240-8ecc-ce9c691db23a",
   "metadata": {},
   "source": [
    "Almost all exercises will be done in Jupyter notebooks in the Puhti webinterface.\n",
    "Puhti is one of CSCs supercomputers providing researchers in Finland with High Performance Computing resources.\n",
    "Course participants will be provided with a temporary account; it is not possible to use your own CSC account. \n",
    "\n",
    "These notebooks include textual information (markdown cells) and executable codes (code cells).\n",
    "All cells can be run with <CTRL + ENTER>.\n",
    "If you want to add new cells, make sure they are in the correct \"mode\".\n",
    "\n",
    "Demo:\n",
    "* How to add cells and switch between markdown/code\n",
    "* How to run terminal commands within Jupyter notebook\n",
    "* Running things in order; overwriting variables\n",
    "\n",
    "We chose Python for this course as it is popular among researchers and provides a vast amound of packages for working with geospatial data and machine learning.\n",
    "\n",
    "Exercises are mainly pre-filled but it is encouraged to play around, change parameters and see what happens.\n",
    "\n",
    "Material is under MIT license -> can be reused.\n",
    "\n"
   ]
  },
  {
   "cell_type": "code",
   "execution_count": 1,
   "id": "e5ea7153-e226-46cb-ab0d-4991773f304d",
   "metadata": {},
   "outputs": [
    {
     "name": "stdout",
     "output_type": "stream",
     "text": [
      "/scratch/project_2002044/samantha/2022/GeoML\n"
     ]
    }
   ],
   "source": [
    "!pwd"
   ]
  },
  {
   "cell_type": "markdown",
   "id": "284e7462-2d0a-477c-b19c-e45bd201eb41",
   "metadata": {},
   "source": [
    "## Packages used in the course:"
   ]
  },
  {
   "cell_type": "code",
   "execution_count": null,
   "id": "27e14404",
   "metadata": {},
   "outputs": [],
   "source": [
    "%load ./requirements.txt"
   ]
  }
 ],
 "metadata": {
  "kernelspec": {
   "display_name": "Python 3 (ipykernel)",
   "language": "python",
   "name": "python3"
  },
  "language_info": {
   "codemirror_mode": {
    "name": "ipython",
    "version": 3
   },
   "file_extension": ".py",
   "mimetype": "text/x-python",
   "name": "python",
   "nbconvert_exporter": "python",
   "pygments_lexer": "ipython3",
   "version": "3.9.7"
  },
  "vscode": {
   "interpreter": {
    "hash": "916dbcbb3f70747c44a77c7bcd40155683ae19c65e1c03b4aa3499c5328201f1"
   }
  }
 },
 "nbformat": 4,
 "nbformat_minor": 5
}
