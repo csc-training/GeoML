{
 "cells": [
  {
   "cell_type": "markdown",
   "id": "04a68a13-d9e6-43bf-b016-84434c885a9d",
   "metadata": {},
   "source": [
    "# Welcome to the course environment!"
   ]
  },
  {
   "cell_type": "markdown",
   "id": "33c68289",
   "metadata": {},
   "source": [
    "## Welcome \n",
    "\n",
    "* Introduction round; course expectations\n",
    "    * in class: knowledge level geospatial data analysis, vector, raster, ML, DL\n"
   ]
  },
  {
   "cell_type": "markdown",
   "id": "a2c0462d",
   "metadata": {},
   "source": [
    "## Important links\n",
    "\n",
    "\n",
    "**This document:** https://github.com/csc-training/GeoML/intro.ipynb\n",
    "\n",
    "**[Slides](https://drive.google.com/drive/folders/1q0-eSCFKcApzTql828Z2ZfDe8xFeFjXd?usp=sharing)**\n",
    "\n",
    "**[Exercise material](https://github.com/csc-training/GeoML)**\n",
    "\n",
    "**Computing environment:** https://puhti.csc.fi\n",
    "\n"
   ]
  },
  {
   "cell_type": "markdown",
   "id": "782923bb",
   "metadata": {},
   "source": [
    "## Practicalities Dogmi\n",
    "\n",
    "* Visitor badge\n",
    "* parking\n",
    "* WC\n",
    "* list on wall\n",
    "* Wifi/Ethernet cable\n",
    "    * eduroam \n",
    "        * temporary access via SMS \n",
    "    * grey ethernet cable\n",
    "* Dogmi computers, CentOS, web browser, QGIS\n",
    "    *** DO NOT RESTART!**\n"
   ]
  },
  {
   "cell_type": "markdown",
   "id": "1ce6a74f",
   "metadata": {},
   "source": [
    "## Code of conduct\n",
    "\n",
    "We strive to follow the [Code of Conduct developed by The Carpentries organisation](https://docs.carpentries.org/topic_folders/policies/code-of-conduct.html) to foster a welcoming environment for everyone. In short:\n",
    "- Use welcoming and inclusive language\n",
    "- Be respectful of different viewpoints and experiences\n",
    "- Gracefully accept constructive criticism\n",
    "- Focus on what is best for the community\n",
    "- Show courtesy and respect towards other community members\n",
    "\n",
    "And please let us know if there is any accessibility issues; fontsize, sound, etc.\n",
    "Terminology can be confusing , e.g. Cartographic label != ML label, please ask if unclear :)\n",
    "-> **How to ask questions:** by hand-raising (physically/in zoom) and ask by voice (we have a backup solution in case there is too many questions)"
   ]
  },
  {
   "cell_type": "markdown",
   "id": "9fb79fbd",
   "metadata": {},
   "source": [
    "## This course\n",
    "\n",
    "### Course goals: \n",
    "    * general overview\n",
    "    * give vocabulary\n",
    "    * practical examples\n",
    "\n",
    "### Out of scope\n",
    "    * feature engineering (geospatial analysis; problem dependent),\n",
    "    * result interpretation in depth(problem and model dependent),\n",
    "    * working with pointclouds\n",
    "\n",
    "### Schedule\n",
    "\n",
    "**Monday 7.11.**\n",
    "9:00-12:00\n",
    "* Practicalities and Introduction \n",
    "* Lecture 1: Introduction to machine learning\n",
    "* Exercise 1: Image segmentation using k-means with scikit-learn\n",
    "\n",
    "12.00-13:00 - Lunch break\n",
    "\n",
    "13:00-16:15\n",
    "* Lecture 2: Shallow machine learning models\n",
    "* Lecture 3: Preparing spatial data for machine learning\n",
    "* Exercise 2: Preparing vector data for regression \n",
    "\n",
    "**Tuesday 8.11.**\n",
    "9:00-12:00\n",
    "* Exercise 3: Shallow regression with scikit-learn\n",
    "* Exercise 4: Image classification using shallow classifiers, grid search with scikit-learn\n",
    "* Lecture 4: Introduction to deep learning models\n",
    "\n",
    "12.00-13:00 - Lunch break\n",
    "\n",
    "13:00-16:15\n",
    "* Lecture 5: Fully connected neural networks\n",
    "* Lecture 6: Puhti GPUs and batch jobs\n",
    "* Exercise 5: Fully connected regressor with keras\n",
    "\n",
    "**Wednesday 9.11.**\n",
    "9:00-12:00\n",
    "* Exercise 6: Fully connected classifier with keras\n",
    "* Lecture 7: Convolutional neural networks (CNN)\n",
    "* Exercise 7: Data preparations for CNN\n",
    "\n",
    "12.00-13:00 - Lunch break\n",
    "\n",
    "13:00-16:00\n",
    "* Exercise 8: CNN based image segmentation with keras\n",
    "* Lecture 8: GIS software supporting machine learning for spatial data. \n",
    "* Wrap-up and where to go from here"
   ]
  },
  {
   "cell_type": "markdown",
   "id": "a8e1f379",
   "metadata": {},
   "source": [
    "## Course computing enviroment\n",
    "\n",
    "Almost all exercises will be done in \"Jupyter notebooks for courses\" in the [Puhti webinterface](https://www.puhti.csc.fi) .\n",
    "Puhti is one of CSCs supercomputers providing researchers in Finland with High Performance Computing resources.\n",
    "Course participants will be provided with a temporary account (training_xxx); it is not possible to use your own CSC account. \n",
    "\n",
    "* Puhti webinterface & accounts\n",
    "    1. connect to https://www.puhti.csc.fi\n",
    "    2. enter provided username (training_xxx) and password \n",
    "    3. find and click \"Jupyter for courses\" on dashboard\n",
    "    4. choose Project \"project_2002044\" first!\n",
    "    5. then choose Module \"GeoML22\"\n",
    "    6. and set workingdirectory to \"/scratch/project_2002044\"\n",
    "    7. click launch and wait until granted resources\n",
    "    8. then click \"Connect to Jupyter\" \n",
    "\n",
    "We will use the Jupyter for courses environment on Day 1 and 2, on day 3 we will use Jupyter and the batch job submission system \"the normal way\" (the same way that you can also use Puhti after the course)."
   ]
  },
  {
   "cell_type": "markdown",
   "id": "2a3a6bb4-2e06-4240-8ecc-ce9c691db23a",
   "metadata": {},
   "source": [
    "## Jupyter\n",
    "\n",
    "These notebooks include textual information (markdown cells) and executable codes (code cells).\n",
    "All cells can be run with <CTRL + ENTER>.\n",
    "If you want to add new cells, make sure they are in the correct \"mode\".\n",
    "\n",
    "Demo:\n",
    "* How to add cells and switch between markdown/code\n",
    "* How to run terminal commands within Jupyter notebook\n",
    "* Running things in order; overwriting variables\n",
    "\n",
    "We chose Python for this course as it is popular among researchers and provides a vast amound of packages for working with geospatial data and machine learning.\n",
    "\n",
    "Exercises are mainly pre-filled but it is encouraged to play around, change parameters and see what happens.\n",
    "\n",
    "Material is under MIT license -> can be reused.\n",
    "\n"
   ]
  },
  {
   "cell_type": "code",
   "execution_count": 1,
   "id": "e5ea7153-e226-46cb-ab0d-4991773f304d",
   "metadata": {},
   "outputs": [
    {
     "name": "stdout",
     "output_type": "stream",
     "text": [
      "/scratch/project_2002044/samantha/2022/GeoML\n"
     ]
    }
   ],
   "source": [
    "!pwd"
   ]
  },
  {
   "cell_type": "markdown",
   "id": "284e7462-2d0a-477c-b19c-e45bd201eb41",
   "metadata": {},
   "source": [
    "## Packages used in the course:"
   ]
  },
  {
   "cell_type": "code",
   "execution_count": null,
   "id": "27e14404",
   "metadata": {},
   "outputs": [],
   "source": [
    "%load ./requirements.txt"
   ]
  }
 ],
 "metadata": {
  "kernelspec": {
   "display_name": "Python 3 (ipykernel)",
   "language": "python",
   "name": "python3"
  },
  "language_info": {
   "codemirror_mode": {
    "name": "ipython",
    "version": 3
   },
   "file_extension": ".py",
   "mimetype": "text/x-python",
   "name": "python",
   "nbconvert_exporter": "python",
   "pygments_lexer": "ipython3",
   "version": "3.6.8"
  },
  "vscode": {
   "interpreter": {
    "hash": "916dbcbb3f70747c44a77c7bcd40155683ae19c65e1c03b4aa3499c5328201f1"
   }
  }
 },
 "nbformat": 4,
 "nbformat_minor": 5
}
